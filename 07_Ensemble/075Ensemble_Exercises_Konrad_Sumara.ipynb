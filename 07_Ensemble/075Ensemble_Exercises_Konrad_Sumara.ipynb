{
 "cells": [
  {
   "cell_type": "markdown",
   "metadata": {},
   "source": [
    "# Ensemble methods. Exercises\n",
    "\n",
    "\n",
    "In this section we have only two exercise:\n",
    "\n",
    "1. Find the best three classifier in the stacking method using the classifiers from scikit-learn package.\n",
    "\n",
    "2. Build arcing arc-x4 method. "
   ]
  },
  {
   "cell_type": "code",
   "execution_count": 1,
   "metadata": {},
   "outputs": [],
   "source": [
    "%store -r data_set\n",
    "%store -r labels\n",
    "%store -r test_data_set\n",
    "%store -r test_labels\n",
    "%store -r unique_labels"
   ]
  },
  {
   "cell_type": "markdown",
   "metadata": {},
   "source": [
    "## Exercise 1: Find the best three classifier in the stacking method\n",
    "\n",
    "Please use the following classifiers:\n",
    "\n",
    "* Linear regression,\n",
    "* Nearest Neighbors,\n",
    "* Linear SVM,\n",
    "* Decision Tree,\n",
    "* Naive Bayes,\n",
    "* QDA."
   ]
  },
  {
   "cell_type": "code",
   "execution_count": 2,
   "metadata": {},
   "outputs": [],
   "source": [
    "import numpy as np\n",
    "import itertools as it\n",
    "import warnings\n",
    "from sklearn.metrics import accuracy_score\n",
    "\n",
    "from sklearn.linear_model import LinearRegression\n",
    "from sklearn.neighbors import KNeighborsClassifier\n",
    "from sklearn.svm import SVC\n",
    "from sklearn.tree import DecisionTreeClassifier\n",
    "from sklearn.naive_bayes import GaussianNB\n",
    "from sklearn.discriminant_analysis import QuadraticDiscriminantAnalysis"
   ]
  },
  {
   "cell_type": "code",
   "execution_count": 3,
   "metadata": {},
   "outputs": [],
   "source": [
    "def build_classifiers(): \n",
    "    \n",
    "    # Linear regression\n",
    "    linear_regression = LinearRegression()\n",
    "    linear_regression.fit(data_set, labels)  \n",
    "    \n",
    "    # Nearest Neighbours\n",
    "    neighbors = KNeighborsClassifier()\n",
    "    neighbors.fit(data_set, labels)\n",
    "\n",
    "    # Linear SVC\n",
    "    svc = SVC()\n",
    "    svc.fit(data_set, labels)\n",
    "    \n",
    "    # Decision tree\n",
    "    decision_tree = DecisionTreeClassifier()\n",
    "    decision_tree.fit(data_set, labels)\n",
    "\n",
    "    # Gaussian Naive-Bayes\n",
    "    gauss = GaussianNB()\n",
    "    gauss.fit(data_set, labels)\n",
    "    \n",
    "    # Quadratic Discriminant Analysis\n",
    "    qda = QuadraticDiscriminantAnalysis()\n",
    "    qda.fit(data_set, labels)\n",
    "    \n",
    "    return linear_regression, neighbors, decision_tree, svc, gauss, qda"
   ]
  },
  {
   "cell_type": "code",
   "execution_count": 4,
   "metadata": {},
   "outputs": [],
   "source": [
    "def build_stacked_classifier(classifiers, stacked_classifier):\n",
    "    output = [] \n",
    "    classifiers_list = []\n",
    "    \n",
    "    # Combinations of 3 classfiers\n",
    "    classifiers_combinations = it.combinations(classifiers, 3)\n",
    "    \n",
    "    # Outputs for each combination\n",
    "    for combination in classifiers_combinations:\n",
    "        tmp_output = []\n",
    "        tmp_combination = []\n",
    "        for classifier in combination:\n",
    "            tmp_output.append(classifier.predict(data_set)) \n",
    "            tmp_combination.append(classifier)\n",
    "        tmp_output = np.array(tmp_output).reshape((130,3))\n",
    "        output.append(tmp_output)  # ten set of data, for each of 10 combination 3-elements from 5 elements set\n",
    "        classifiers_list.append(tmp_combination)\n",
    "        \n",
    "    # Combination fit array\n",
    "    combination_fit = []\n",
    "    for combination_output in output:\n",
    "        #stacked_classifier = DecisionTreeClassifier()\n",
    "        combination_fit.append(stacked_classifier.fit(combination_output.reshape((130,3)), labels.reshape((130,))))\n",
    " \n",
    "    # Predictions for test dataset using each classifier combination\n",
    "    test_predictions_list = []   \n",
    "    for i in range(len(combination_fit)):\n",
    "        classifiers = classifiers_list[i]\n",
    "        stacked_classifier = combination_fit[i]\n",
    "        test_set = []\n",
    "        \n",
    "        for classifier in classifiers:\n",
    "            test_set.append(classifier.predict(test_data_set))\n",
    "        test_set = np.array(test_set).reshape((len(test_set[0]),3))\n",
    "        predicted = stacked_classifier.predict(test_set)\n",
    "        test_predictions_list.append(predicted)\n",
    "    \n",
    "    # Prediction accuracy for each combination\n",
    "    accuracy_list = []\n",
    "    for prediction in test_predictions_list:\n",
    "        accuracy_list.append(accuracy_score(test_labels, prediction))\n",
    "        accuracy = accuracy_score(test_labels, prediction) ##\n",
    "        #print(accuracy)\n",
    "    \n",
    "    # Selecting best accuracy combination\n",
    "    best_prediction_index = np.argmax(accuracy_list)\n",
    "    \n",
    "    best_classifiers = classifiers_list[best_prediction_index]\n",
    "    best_stacked_classifier = combination_fit[best_prediction_index]\n",
    "    best_predicted = best_stacked_classifier.predict(test_set)\n",
    "    \n",
    "    return best_classifiers, best_predicted, best_stacked_classifier"
   ]
  },
  {
   "cell_type": "code",
   "execution_count": 5,
   "metadata": {},
   "outputs": [
    {
     "name": "stdout",
     "output_type": "stream",
     "text": [
      "Stacked classifier --> KNeighborsClassifier\n",
      "Set of 3 stacked classifiers with highest accuracy:\n",
      "--> LinearRegression\n",
      "--> KNeighborsClassifier\n",
      "--> DecisionTreeClassifier\n",
      "Accuracy value for this set = 0.0 \n",
      "\n",
      "Stacked classifier --> SVC\n",
      "Set of 3 stacked classifiers with highest accuracy:\n",
      "--> LinearRegression\n",
      "--> KNeighborsClassifier\n",
      "--> DecisionTreeClassifier\n",
      "Accuracy value for this set = 0.75 \n",
      "\n",
      "Stacked classifier --> DecisionTreeClassifier\n",
      "Set of 3 stacked classifiers with highest accuracy:\n",
      "--> KNeighborsClassifier\n",
      "--> DecisionTreeClassifier\n",
      "--> QuadraticDiscriminantAnalysis\n",
      "Accuracy value for this set = 0.8 \n",
      "\n",
      "Stacked classifier --> GaussianNB\n",
      "Set of 3 stacked classifiers with highest accuracy:\n",
      "--> LinearRegression\n",
      "--> KNeighborsClassifier\n",
      "--> DecisionTreeClassifier\n",
      "Accuracy value for this set = 1.0 \n",
      "\n",
      "Stacked classifier --> QuadraticDiscriminantAnalysis\n",
      "Set of 3 stacked classifiers with highest accuracy:\n",
      "--> KNeighborsClassifier\n",
      "--> DecisionTreeClassifier\n",
      "--> GaussianNB\n",
      "Accuracy value for this set = 0.75 \n",
      "\n"
     ]
    }
   ],
   "source": [
    "# Running all functions\n",
    "warnings.filterwarnings('ignore')\n",
    "\n",
    "\n",
    "# Using KNeighborsClassifier as stacked classifier\n",
    "stacked_classifier = KNeighborsClassifier()\n",
    "classifiers = build_classifiers()\n",
    "\n",
    "best_classifiers, best_predicted, best_stacked_classifier = build_stacked_classifier(classifiers, stacked_classifier)\n",
    "accuracy = accuracy_score(test_labels, best_predicted)\n",
    "\n",
    "print(\"Stacked classifier --> KNeighborsClassifier\")\n",
    "print(\"Set of 3 stacked classifiers with highest accuracy:\")\n",
    "for classifier in best_classifiers:\n",
    "    print(\"-->\",type(classifier).__name__)\n",
    "print(\"Accuracy value for this set =\",accuracy,\"\\n\")\n",
    "\n",
    "\n",
    "# Using SVC as stacked classifier\n",
    "stacked_classifier = SVC()\n",
    "classifiers = build_classifiers()\n",
    "\n",
    "best_classifiers, best_predicted, best_stacked_classifier = build_stacked_classifier(classifiers, stacked_classifier)\n",
    "accuracy = accuracy_score(test_labels, best_predicted)\n",
    "\n",
    "print(\"Stacked classifier --> SVC\")\n",
    "print(\"Set of 3 stacked classifiers with highest accuracy:\")\n",
    "for classifier in best_classifiers:\n",
    "    print(\"-->\",type(classifier).__name__)\n",
    "print(\"Accuracy value for this set =\",accuracy,\"\\n\")\n",
    "\n",
    "\n",
    "# Using DecisionTreeClassifier as stacked classifier\n",
    "stacked_classifier = DecisionTreeClassifier()\n",
    "classifiers = build_classifiers()\n",
    "\n",
    "best_classifiers, best_predicted, best_stacked_classifier = build_stacked_classifier(classifiers, stacked_classifier)\n",
    "accuracy = accuracy_score(test_labels, best_predicted)\n",
    "\n",
    "print(\"Stacked classifier --> DecisionTreeClassifier\")\n",
    "print(\"Set of 3 stacked classifiers with highest accuracy:\")\n",
    "for classifier in best_classifiers:\n",
    "    print(\"-->\",type(classifier).__name__)\n",
    "print(\"Accuracy value for this set =\",accuracy,\"\\n\")\n",
    "\n",
    "\n",
    "# Using GaussianNB as stacked classifier\n",
    "stacked_classifier = GaussianNB()\n",
    "classifiers = build_classifiers()\n",
    "\n",
    "best_classifiers, best_predicted, best_stacked_classifier = build_stacked_classifier(classifiers, stacked_classifier)\n",
    "accuracy = accuracy_score(test_labels, best_predicted)\n",
    "\n",
    "print(\"Stacked classifier --> GaussianNB\")\n",
    "print(\"Set of 3 stacked classifiers with highest accuracy:\")\n",
    "for classifier in best_classifiers:\n",
    "    print(\"-->\",type(classifier).__name__)\n",
    "print(\"Accuracy value for this set =\",accuracy,\"\\n\")\n",
    "\n",
    "\n",
    "# Using QuadraticDiscriminantAnalysis as stacked classifier\n",
    "stacked_classifier = QuadraticDiscriminantAnalysis()\n",
    "classifiers = build_classifiers()\n",
    "\n",
    "best_classifiers, best_predicted, best_stacked_classifier = build_stacked_classifier(classifiers, stacked_classifier)\n",
    "accuracy = accuracy_score(test_labels, best_predicted)\n",
    "\n",
    "print(\"Stacked classifier --> QuadraticDiscriminantAnalysis\")\n",
    "print(\"Set of 3 stacked classifiers with highest accuracy:\")\n",
    "for classifier in best_classifiers:\n",
    "    print(\"-->\",type(classifier).__name__)\n",
    "print(\"Accuracy value for this set =\",accuracy,\"\\n\")\n",
    "\n"
   ]
  },
  {
   "cell_type": "markdown",
   "metadata": {},
   "source": [
    "## Exercise 2: \n",
    "\n",
    "Use the boosting method and change the code to fullfilt the following requirements:\n",
    "\n",
    "* the weights should be calculated as:\n",
    "$w_{n}^{(t+1)}=\\frac{1+ I(y_{n}\\neq h_{t}(x_{n})}{\\sum_{i=1}^{N}1+I(y_{n}\\neq h_{t}(x_{n})}$,\n",
    "* the prediction is done with a voting method."
   ]
  },
  {
   "cell_type": "code",
   "execution_count": 6,
   "metadata": {},
   "outputs": [],
   "source": [
    "# Loading necessary libraries\n",
    "import numpy as np\n",
    "from sklearn.tree import DecisionTreeClassifier\n",
    "\n",
    "# Preparing dataset\n",
    "def generate_data(sample_number, feature_number, label_number):\n",
    "    data_set = np.random.random_sample((sample_number, feature_number))\n",
    "    labels = np.random.choice(label_number, sample_number)\n",
    "    return data_set, labels"
   ]
  },
  {
   "cell_type": "code",
   "execution_count": 7,
   "metadata": {},
   "outputs": [],
   "source": [
    "labels = 2\n",
    "dimension = 2\n",
    "test_set_size = 1000\n",
    "train_set_size = 5000\n",
    "train_set, train_labels = generate_data(train_set_size, dimension, labels)\n",
    "test_set, test_labels = generate_data(test_set_size, dimension, labels)"
   ]
  },
  {
   "cell_type": "code",
   "execution_count": 8,
   "metadata": {},
   "outputs": [],
   "source": [
    "# Initializing weights\n",
    "number_of_iterations = 10\n",
    "weights = np.ones((test_set_size,)) / test_set_size"
   ]
  },
  {
   "cell_type": "code",
   "execution_count": 9,
   "metadata": {},
   "outputs": [],
   "source": [
    "def train_model(classifier, weights):\n",
    "    return classifier.fit(X=test_set, y=test_labels, sample_weight=weights)"
   ]
  },
  {
   "cell_type": "code",
   "execution_count": 10,
   "metadata": {},
   "outputs": [],
   "source": [
    "def calculate_accuracy_vector(predicted, labels):\n",
    "    result = []\n",
    "    for i in range(len(predicted)):\n",
    "        if predicted[i] == labels[i]:\n",
    "            result.append(0)\n",
    "        else:\n",
    "            result.append(1)\n",
    "    return result"
   ]
  },
  {
   "cell_type": "code",
   "execution_count": 11,
   "metadata": {},
   "outputs": [],
   "source": [
    "def calculate_error(model):\n",
    "    predicted = model.predict(test_set)\n",
    "    I = calculate_accuracy_vector(predicted, test_labels)\n",
    "    Z = np.sum(I)\n",
    "    return (1+Z)/1.0"
   ]
  },
  {
   "cell_type": "markdown",
   "metadata": {},
   "source": [
    "Fill the two functions below:\n",
    "\n",
    "* the weights should be calculated as:\n",
    "$w_{n}^{(t+1)}=\\frac{1+ I(y_{n}\\neq h_{t}(x_{n})}{\\sum_{i=1}^{N}1+I(y_{n}\\neq h_{t}(x_{n})}$,"
   ]
  },
  {
   "cell_type": "code",
   "execution_count": 12,
   "metadata": {},
   "outputs": [],
   "source": [
    "def set_new_weights(model):\n",
    "    predicted = model.predict(test_set)\n",
    "    I = calculate_accuracy_vector(predicted, test_labels)\n",
    "    Norm = np.sum(np.add(1,I))\n",
    "    new_weights = np.add(1,I)/Norm\n",
    "    return new_weights "
   ]
  },
  {
   "cell_type": "markdown",
   "metadata": {},
   "source": [
    "Train the classifier with the code below:"
   ]
  },
  {
   "cell_type": "code",
   "execution_count": 13,
   "metadata": {},
   "outputs": [
    {
     "name": "stdout",
     "output_type": "stream",
     "text": [
      "[0.00065617 0.00131234 0.00131234 0.00131234 0.00131234 0.00065617\n",
      " 0.00065617 0.00131234 0.00131234 0.00131234]\n"
     ]
    }
   ],
   "source": [
    "classifier = DecisionTreeClassifier(max_depth = 1, random_state = 1)\n",
    "classifier.fit(X = train_set, y = train_labels)\n",
    "alphas = []\n",
    "classifiers = []\n",
    "for iteration in range(number_of_iterations):\n",
    "    model = train_model(classifier, weights)\n",
    "    weights = set_new_weights(model)\n",
    "    classifiers.append(model)\n",
    "\n",
    "# First 10 elements in weights list\n",
    "print(weights[:10])"
   ]
  },
  {
   "cell_type": "markdown",
   "metadata": {},
   "source": [
    "Set the validation data set:"
   ]
  },
  {
   "cell_type": "code",
   "execution_count": 14,
   "metadata": {},
   "outputs": [
    {
     "name": "stdout",
     "output_type": "stream",
     "text": [
      "Validate_x = [[0.91968433 0.52183191]] Validate_label = [1]\n"
     ]
    }
   ],
   "source": [
    "validate_x, validate_label = generate_data(1, dimension, labels)\n",
    "\n",
    "print(\"Validate_x =\",validate_x,\"Validate_label =\",validate_label)"
   ]
  },
  {
   "cell_type": "markdown",
   "metadata": {},
   "source": [
    "Fill the prediction code:"
   ]
  },
  {
   "cell_type": "code",
   "execution_count": 15,
   "metadata": {},
   "outputs": [],
   "source": [
    "def get_prediction(x, test_labels):\n",
    "    predictions = []\n",
    "    test_unique_labels = np.unique(test_labels)\n",
    "    votes_count = np.zeros(len(test_unique_labels))\n",
    "    for i in range (len(classifiers)):\n",
    "        predicted = classifiers[i].predict(x)\n",
    "        print(\"Classifier nr.\",i,\"predicted:\",predicted[0])\n",
    "        for j in range (len(test_unique_labels)):\n",
    "            if test_unique_labels[j] == predicted[0]:\n",
    "                votes_count[j] = votes_count[j] + 1\n",
    "    print(\"Votes for 0 :\",int(votes_count[0]),\",votes for 1 :\",int(votes_count[1]))\n",
    "        \n",
    "    if votes_count[np.argmax(votes_count)] / (len(classifiers)) > 0.5:\n",
    "        return test_unique_labels[np.argmax(votes_count)]\n",
    "    else:\n",
    "        print(\"Voting ended with a tie.\")"
   ]
  },
  {
   "cell_type": "markdown",
   "metadata": {},
   "source": [
    "Test it:"
   ]
  },
  {
   "cell_type": "code",
   "execution_count": 16,
   "metadata": {},
   "outputs": [
    {
     "name": "stdout",
     "output_type": "stream",
     "text": [
      "Classifier nr. 0 predicted: 1\n",
      "Classifier nr. 1 predicted: 1\n",
      "Classifier nr. 2 predicted: 1\n",
      "Classifier nr. 3 predicted: 1\n",
      "Classifier nr. 4 predicted: 1\n",
      "Classifier nr. 5 predicted: 1\n",
      "Classifier nr. 6 predicted: 1\n",
      "Classifier nr. 7 predicted: 1\n",
      "Classifier nr. 8 predicted: 1\n",
      "Classifier nr. 9 predicted: 1\n",
      "Votes for 0 : 0 ,votes for 1 : 10\n",
      "\n",
      "Validation point = [[0.91968433 0.52183191]] Validation point label = 1\n",
      "Predicted label for Validation point = 1\n"
     ]
    }
   ],
   "source": [
    "prediction = get_prediction(validate_x, test_labels)\n",
    "\n",
    "print(\"\\nValidation point =\",validate_x,\"Validation point label =\",validate_label[0])\n",
    "print(\"Predicted label for Validation point =\",prediction)"
   ]
  },
  {
   "cell_type": "code",
   "execution_count": 17,
   "metadata": {},
   "outputs": [
    {
     "name": "stdout",
     "output_type": "stream",
     "text": [
      "Sidenote: Since validation_point and validation_label are randomly generated independently, comparing validation_label and prediction doesn't make sense\n"
     ]
    }
   ],
   "source": [
    "print(\"Sidenote: Since validation_point and validation_label are randomly generated independently, comparing validation_label and prediction doesn't make sense\")"
   ]
  }
 ],
 "metadata": {
  "kernelspec": {
   "display_name": "Python 3",
   "language": "python",
   "name": "python3"
  },
  "language_info": {
   "codemirror_mode": {
    "name": "ipython",
    "version": 3
   },
   "file_extension": ".py",
   "mimetype": "text/x-python",
   "name": "python",
   "nbconvert_exporter": "python",
   "pygments_lexer": "ipython3",
   "version": "3.7.3"
  }
 },
 "nbformat": 4,
 "nbformat_minor": 4
}
