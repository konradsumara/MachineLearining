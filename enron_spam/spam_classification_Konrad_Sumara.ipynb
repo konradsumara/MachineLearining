{
 "cells": [
  {
   "cell_type": "markdown",
   "metadata": {},
   "source": [
    "# Spam/ham classification"
   ]
  },
  {
   "cell_type": "markdown",
   "metadata": {},
   "source": [
    "In this assignment you will train a classifier to recognise spam emails. The data was taken from this [enron spam](https://www.kaggle.com/wanderfj/enron-spam)  kaggle dataset. The dataset is described [here](https://www.researchgate.net/publication/221650814_Spam_Filtering_with_Naive_Bayes_-_Which_Naive_Bayes). This will familiarize you with tools  for text analysis  from  the scikit-learn library. \n",
    "\n",
    "The data is provided as a zip archive \"enron_spam.zip\". You can unpack it with command `unzip enron_spam.zip` which will create a directory `data`. "
   ]
  },
  {
   "cell_type": "markdown",
   "metadata": {},
   "source": [
    "The data  consists of 6 batches of emails. Each batch corresponds to different person and different spam source. Each batch is stored in different subdirectory of `data` named `Enron_1` to `Enron_6`. Each email is stored in separate file :( Spam and ham emails are stored in different subdirectories. Fortunatelly the scikit-learn library provides a functiona `load_files` that can read data in this format. "
   ]
  },
  {
   "cell_type": "code",
   "execution_count": 1,
   "metadata": {},
   "outputs": [],
   "source": [
    "import pandas as pd\n",
    "import numpy as np\n",
    "import matplotlib.pyplot as plt\n",
    "from matplotlib import gridspec\n",
    "%matplotlib inline"
   ]
  },
  {
   "cell_type": "code",
   "execution_count": 2,
   "metadata": {},
   "outputs": [],
   "source": [
    "from sklearn.model_selection import train_test_split\n",
    "from sklearn.feature_extraction.text import CountVectorizer\n",
    "from sklearn.naive_bayes import MultinomialNB\n",
    "from sklearn.metrics import accuracy_score\n",
    "from sklearn.metrics import f1_score, precision_score, recall_score\n",
    "from sklearn.metrics import confusion_matrix, plot_confusion_matrix\n",
    "from sklearn.metrics import ConfusionMatrixDisplay\n",
    "from sklearn.metrics import roc_curve, roc_auc_score\n",
    "from sklearn.model_selection import cross_val_score, cross_validate\n",
    "from sklearn.model_selection import GridSearchCV\n",
    "from sklearn.pipeline import Pipeline\n",
    "from sklearn.base import clone\n"
   ]
  },
  {
   "cell_type": "code",
   "execution_count": 3,
   "metadata": {},
   "outputs": [],
   "source": [
    "# Class for printing in bold font\n",
    "class style:\n",
    "   BOLD = '\\033[1m'\n",
    "   END = '\\033[0m'"
   ]
  },
  {
   "cell_type": "code",
   "execution_count": 4,
   "metadata": {},
   "outputs": [],
   "source": [
    "from sklearn.datasets import load_files"
   ]
  },
  {
   "cell_type": "markdown",
   "metadata": {},
   "source": [
    "You can load data from given batch using the function"
   ]
  },
  {
   "cell_type": "code",
   "execution_count": 5,
   "metadata": {},
   "outputs": [],
   "source": [
    "data1 = load_files('data/Enron_1/', encoding='latin-1', shuffle=True, categories=['ham', 'spam'] )"
   ]
  },
  {
   "cell_type": "markdown",
   "metadata": {},
   "source": [
    "It returns a python dictionary. The entry 'data' contains the data from files and the entry 'target' contains the labels assigned according to the subdirectory names. The labels are integers and corresponding names can be found in the entry 'target_names'."
   ]
  },
  {
   "cell_type": "code",
   "execution_count": 6,
   "metadata": {},
   "outputs": [
    {
     "data": {
      "text/plain": [
       "4137"
      ]
     },
     "execution_count": 6,
     "metadata": {},
     "output_type": "execute_result"
    }
   ],
   "source": [
    "len(data1['data'])"
   ]
  },
  {
   "cell_type": "code",
   "execution_count": 7,
   "metadata": {},
   "outputs": [
    {
     "data": {
      "text/plain": [
       "[\"Subject: re : cornhusker deal\\r\\nrita ,\\r\\nthings have been changing daily on this thing , so we were waiting to get it\\r\\nall figured out .\\r\\ni did tell mark mccoy to handle this , and he is going to get you all the\\r\\ninformation right after\\r\\nthe long weekend . hope this helps . pat\\r\\nrita wynne @ ect\\r\\n08 / 31 / 2000 05 : 25 pm\\r\\nto : pat clynes / corp / enron @ enron , daren j farmer / hou / ect @ ect\\r\\ncc :\\r\\nsubject : cornhusker deal\\r\\nhey guys ,\\r\\ni need to be bought up to speed on the cornhusker deal . i don ' t know what\\r\\nthe impact is to my group or what we should expect to see in terms of\\r\\nallocations or settlements . any info . either of you can provide would be\\r\\nappreciated . thanks and have a great holiday !\",\n",
       " 'Subject: enron / hpl actuals for sept . 18 , 2000\\r\\nls hpl lsk ic 2 . 500 / enron']"
      ]
     },
     "execution_count": 7,
     "metadata": {},
     "output_type": "execute_result"
    }
   ],
   "source": [
    "data1['data'][:2]"
   ]
  },
  {
   "cell_type": "code",
   "execution_count": 8,
   "metadata": {},
   "outputs": [
    {
     "data": {
      "text/plain": [
       "4137"
      ]
     },
     "execution_count": 8,
     "metadata": {},
     "output_type": "execute_result"
    }
   ],
   "source": [
    "len(data1['target'])"
   ]
  },
  {
   "cell_type": "code",
   "execution_count": 9,
   "metadata": {},
   "outputs": [
    {
     "data": {
      "text/plain": [
       "array([0, 0])"
      ]
     },
     "execution_count": 9,
     "metadata": {},
     "output_type": "execute_result"
    }
   ],
   "source": [
    "data1['target'][:2]"
   ]
  },
  {
   "cell_type": "code",
   "execution_count": 10,
   "metadata": {},
   "outputs": [
    {
     "data": {
      "text/plain": [
       "['ham', 'spam']"
      ]
     },
     "execution_count": 10,
     "metadata": {},
     "output_type": "execute_result"
    }
   ],
   "source": [
    "data1['target_names']"
   ]
  },
  {
   "cell_type": "markdown",
   "metadata": {},
   "source": [
    "## Problems "
   ]
  },
  {
   "cell_type": "markdown",
   "metadata": {},
   "source": [
    "1. Train the multinomial bayes classifier using scikit-learn  for the first batch of data in data/Enron_1 as described in text_analysis notebook.\n",
    "    1. Set asside 20% of data for testings and train the multinomial bayes classifier using the remaining 80% of data.This requires  transforming the data to feature vectors using CountVectoriser  from scikit-learn. How big is the resulting vocabulary ? \n",
    "    1. Using the test set \n",
    "        1. Draw the confusion matrix using `plot_confusion_matrix` from scikit-learn (see the latest update of the text_analysis notebook) using the test set. \n",
    "        1. Calculate recall and precision scores. \n",
    "        1. Draw the ROC curve and calculate the AUC score  using the test set. \n",
    "        1. What percentage of valid mails is classified as spam?\n",
    "        1. Assuming that only mails classified as ham are put in our mailbox what percentage of mail in our inbox is spam?\n",
    "        \n",
    "    1. Find ten most probable and least probable words for each class.     \n",
    "    1. Check the classifier on the remaining datasets data/Enron_2-6. For each set calculate recall and precision. \n",
    "    1. Combine all sets.  Train a new classifier on the combined  set, of course after dividing into test and train sets. Redo point B. using this classifier and combined test set. \n",
    "    1. Assumimg that we want to keep the frequency of misclassified ham mails belowe 5 per mile, what would be the percentage of spam in our inbox?\n",
    "   "
   ]
  },
  {
   "cell_type": "markdown",
   "metadata": {},
   "source": [
    "__Hint__ You can create a dataframe from the data using"
   ]
  },
  {
   "cell_type": "markdown",
   "metadata": {},
   "source": [
    "# Exercise 1:\n",
    "# Train the multinomial bayes classifier using scikit-learn for the first batch of data in data/Enron_1 as described in text_analysis notebook."
   ]
  },
  {
   "cell_type": "markdown",
   "metadata": {},
   "source": [
    "# Exercise 1A\n",
    "# Set asside 20% of data for testings and train the multinomial bayes classifier using the remaining 80% of data.This requires transforming the data to feature vectors using CountVectoriser from scikit-learn. How big is the resulting vocabulary ? "
   ]
  },
  {
   "cell_type": "code",
   "execution_count": 11,
   "metadata": {},
   "outputs": [],
   "source": [
    "import pandas as pd\n",
    "df1 = pd.DataFrame({'text': data1['data'], 'spam': data1['target']})"
   ]
  },
  {
   "cell_type": "code",
   "execution_count": 12,
   "metadata": {},
   "outputs": [
    {
     "data": {
      "text/plain": [
       "0    2937\n",
       "1    1200\n",
       "Name: spam, dtype: int64"
      ]
     },
     "execution_count": 12,
     "metadata": {},
     "output_type": "execute_result"
    }
   ],
   "source": [
    "df1.spam.value_counts()"
   ]
  },
  {
   "cell_type": "markdown",
   "metadata": {},
   "source": [
    "### "
   ]
  },
  {
   "cell_type": "code",
   "execution_count": 13,
   "metadata": {},
   "outputs": [
    {
     "data": {
      "text/html": [
       "<div>\n",
       "<style scoped>\n",
       "    .dataframe tbody tr th:only-of-type {\n",
       "        vertical-align: middle;\n",
       "    }\n",
       "\n",
       "    .dataframe tbody tr th {\n",
       "        vertical-align: top;\n",
       "    }\n",
       "\n",
       "    .dataframe thead th {\n",
       "        text-align: right;\n",
       "    }\n",
       "</style>\n",
       "<table border=\"1\" class=\"dataframe\">\n",
       "  <thead>\n",
       "    <tr style=\"text-align: right;\">\n",
       "      <th></th>\n",
       "      <th>text</th>\n",
       "      <th>spam</th>\n",
       "    </tr>\n",
       "  </thead>\n",
       "  <tbody>\n",
       "    <tr>\n",
       "      <th>0</th>\n",
       "      <td>Subject: re : cornhusker deal\\r\\nrita ,\\r\\nthi...</td>\n",
       "      <td>0</td>\n",
       "    </tr>\n",
       "    <tr>\n",
       "      <th>1</th>\n",
       "      <td>Subject: enron / hpl actuals for sept . 18 , 2...</td>\n",
       "      <td>0</td>\n",
       "    </tr>\n",
       "    <tr>\n",
       "      <th>2</th>\n",
       "      <td>Subject: fw : teco / frontera financial trades...</td>\n",
       "      <td>0</td>\n",
       "    </tr>\n",
       "    <tr>\n",
       "      <th>3</th>\n",
       "      <td>Subject: jan . 01 sale to texas general land o...</td>\n",
       "      <td>0</td>\n",
       "    </tr>\n",
       "    <tr>\n",
       "      <th>4</th>\n",
       "      <td>Subject: re : volume increase - hpl meter 68 -...</td>\n",
       "      <td>0</td>\n",
       "    </tr>\n",
       "  </tbody>\n",
       "</table>\n",
       "</div>"
      ],
      "text/plain": [
       "                                                text  spam\n",
       "0  Subject: re : cornhusker deal\\r\\nrita ,\\r\\nthi...     0\n",
       "1  Subject: enron / hpl actuals for sept . 18 , 2...     0\n",
       "2  Subject: fw : teco / frontera financial trades...     0\n",
       "3  Subject: jan . 01 sale to texas general land o...     0\n",
       "4  Subject: re : volume increase - hpl meter 68 -...     0"
      ]
     },
     "execution_count": 13,
     "metadata": {},
     "output_type": "execute_result"
    }
   ],
   "source": [
    "df1.head()"
   ]
  },
  {
   "cell_type": "code",
   "execution_count": 14,
   "metadata": {},
   "outputs": [
    {
     "data": {
      "text/plain": [
       "4137"
      ]
     },
     "execution_count": 14,
     "metadata": {},
     "output_type": "execute_result"
    }
   ],
   "source": [
    "len(df1)"
   ]
  },
  {
   "cell_type": "code",
   "execution_count": 15,
   "metadata": {},
   "outputs": [],
   "source": [
    "#train_test_split(df1, test_size=0.33, random_state=42)\n",
    "\n",
    "seed = 57576\n",
    "train_data, test_data = train_test_split(df1,test_size=0.2, stratify=df1['spam'], random_state = seed)"
   ]
  },
  {
   "cell_type": "code",
   "execution_count": 16,
   "metadata": {
    "scrolled": false
   },
   "outputs": [
    {
     "name": "stdout",
     "output_type": "stream",
     "text": [
      "Training data length = 3309 which equals to: 0.7998549673676577 % of all data\n",
      "Testing data length = 828 which equals to: 0.2001450326323423 % of all data\n"
     ]
    }
   ],
   "source": [
    "print(\"Training data length =\",len(train_data),\"which equals to:\",len(train_data)/len(df1),\"% of all data\")\n",
    "print(\"Testing data length =\",len(test_data),\"which equals to:\",len(test_data)/len(df1),\"% of all data\")"
   ]
  },
  {
   "cell_type": "code",
   "execution_count": 17,
   "metadata": {
    "scrolled": true
   },
   "outputs": [
    {
     "name": "stdout",
     "output_type": "stream",
     "text": [
      "Training dataset:\n",
      "0    2349\n",
      "1     960\n",
      "Name: spam, dtype: int64 \n",
      "\n",
      "Testing dataset:\n",
      "0    588\n",
      "1    240\n",
      "Name: spam, dtype: int64 \n",
      "\n"
     ]
    }
   ],
   "source": [
    "print(\"Training dataset:\")\n",
    "print(train_data.spam.value_counts(),\"\\n\")\n",
    "print(\"Testing dataset:\")\n",
    "print(test_data.spam.value_counts(),\"\\n\")"
   ]
  },
  {
   "cell_type": "code",
   "execution_count": 18,
   "metadata": {},
   "outputs": [],
   "source": [
    "# Initializing vectorizer\n",
    "\n",
    "vectorizer = CountVectorizer(stop_words='english')"
   ]
  },
  {
   "cell_type": "code",
   "execution_count": 19,
   "metadata": {},
   "outputs": [],
   "source": [
    "# Fitting nad transforming train_data\n",
    "\n",
    "# %%time\n",
    "spam_features = vectorizer.fit_transform(train_data.text)"
   ]
  },
  {
   "cell_type": "code",
   "execution_count": 20,
   "metadata": {
    "scrolled": true
   },
   "outputs": [
    {
     "name": "stdout",
     "output_type": "stream",
     "text": [
      "\u001b[1mExercise 1A:\u001b[0m\n",
      "--> Number of documents in dataset = 3309\n",
      "--> Number of words in vocabulary = 37931\n"
     ]
    }
   ],
   "source": [
    "# Exercise 1A\n",
    "# Dimensions of vocabulary:\n",
    "print(style.BOLD + \"Exercise 1A:\" + style.END)\n",
    "\n",
    "print(\"--> Number of documents in dataset =\",spam_features.shape[0])\n",
    "print(\"--> Number of words in vocabulary =\",spam_features.shape[1])"
   ]
  },
  {
   "cell_type": "markdown",
   "metadata": {},
   "source": [
    "# Exercise 1Ba\n",
    "# Draw the confusion matrix using plot_confusion_matrix from scikit-learn (see the latest update of the text_analysis notebook) using the test set. "
   ]
  },
  {
   "cell_type": "code",
   "execution_count": 21,
   "metadata": {},
   "outputs": [
    {
     "name": "stdout",
     "output_type": "stream",
     "text": [
      "Number of non-zero elements in first 5 documents:\n",
      "[30 87 61 49 19]\n"
     ]
    }
   ],
   "source": [
    "print(\"Number of non-zero elements in first 5 documents:\")\n",
    "print(np.count_nonzero(spam_features[:5,:].toarray(), axis = 1))"
   ]
  },
  {
   "cell_type": "code",
   "execution_count": 22,
   "metadata": {},
   "outputs": [],
   "source": [
    "# Initializing MultinomialNB classifier\n",
    "\n",
    "base_spam_classifier = MultinomialNB()"
   ]
  },
  {
   "cell_type": "code",
   "execution_count": 23,
   "metadata": {},
   "outputs": [
    {
     "data": {
      "text/plain": [
       "MultinomialNB(alpha=1.0, class_prior=None, fit_prior=True)"
      ]
     },
     "execution_count": 23,
     "metadata": {},
     "output_type": "execute_result"
    }
   ],
   "source": [
    "# Fitting classfier to training data\n",
    "\n",
    "base_spam_classifier.fit(spam_features, train_data.spam)"
   ]
  },
  {
   "cell_type": "code",
   "execution_count": 24,
   "metadata": {},
   "outputs": [],
   "source": [
    "# Applying trained classfier to test_data\n",
    "\n",
    "# %%time\n",
    "test_features = vectorizer.transform(test_data.text)"
   ]
  },
  {
   "cell_type": "code",
   "execution_count": 25,
   "metadata": {},
   "outputs": [
    {
     "name": "stdout",
     "output_type": "stream",
     "text": [
      "Score of MultinomialNB classifier = 0.9794685990338164\n"
     ]
    }
   ],
   "source": [
    "# Calculating score of the classifier\n",
    "\n",
    "print(\"Score of MultinomialNB classifier =\",base_spam_classifier.score(test_features, test_data.spam))"
   ]
  },
  {
   "cell_type": "code",
   "execution_count": 26,
   "metadata": {},
   "outputs": [],
   "source": [
    "# Calculating predictions made by classfier\n",
    "\n",
    "base_predicted =  base_spam_classifier.predict(test_features)"
   ]
  },
  {
   "cell_type": "code",
   "execution_count": 27,
   "metadata": {},
   "outputs": [
    {
     "name": "stdout",
     "output_type": "stream",
     "text": [
      "Confusion matrix (normalised) in array form:\n",
      "\n",
      "[[0.70048309 0.00966184]\n",
      " [0.01086957 0.27898551]]\n"
     ]
    }
   ],
   "source": [
    "# Confusion matrix calculation\n",
    "\n",
    "outcome_freq = confusion_matrix(test_data.spam, base_predicted, normalize='all')\n",
    "\n",
    "print(\"Confusion matrix (normalised) in array form:\\n\")\n",
    "print(outcome_freq)"
   ]
  },
  {
   "cell_type": "code",
   "execution_count": 28,
   "metadata": {},
   "outputs": [
    {
     "name": "stdout",
     "output_type": "stream",
     "text": [
      "\u001b[1mExercise 1Ba:\u001b[0m\n",
      "--> Plotting confusion matrix:\n",
      "\n"
     ]
    },
    {
     "data": {
      "image/png": "[encoded data removed]",
      "text/plain": [
       "<Figure size 432x288 with 2 Axes>"
      ]
     },
     "metadata": {
      "needs_background": "light"
     },
     "output_type": "display_data"
    }
   ],
   "source": [
    "# Exercise 1Ba\n",
    "# Confusion matrix plot\n",
    "\n",
    "print(style.BOLD + \"Exercise 1Ba:\" + style.END)\n",
    "print(\"--> Plotting confusion matrix:\\n\")\n",
    "fig, ax = plt.subplots(figsize=(6,4))\n",
    "disp = plot_confusion_matrix(base_spam_classifier, test_features, test_data.spam, normalize='true', ax=ax);"
   ]
  },
  {
   "cell_type": "markdown",
   "metadata": {},
   "source": [
    "# Exercise 1Bb\n",
    "# Calculate recall and precision scores."
   ]
  },
  {
   "cell_type": "code",
   "execution_count": 29,
   "metadata": {},
   "outputs": [
    {
     "name": "stdout",
     "output_type": "stream",
     "text": [
      "Accuracy of MultinomialNB classifier = 0.9794685990338164\n"
     ]
    }
   ],
   "source": [
    "# Calculating score of predictions made by classifier\n",
    "\n",
    "print(\"Accuracy of MultinomialNB classifier =\",accuracy_score(test_data.spam, base_predicted))"
   ]
  },
  {
   "cell_type": "code",
   "execution_count": 30,
   "metadata": {},
   "outputs": [
    {
     "name": "stdout",
     "output_type": "stream",
     "text": [
      "\u001b[1mExercise 1Bb:\u001b[0m\n",
      "--> Recall score = 0.9744472789115646\n"
     ]
    }
   ],
   "source": [
    "# Exercise 1Bb\n",
    "# Recall Score\n",
    "\n",
    "print(style.BOLD + \"Exercise 1Bb:\" + style.END)\n",
    "print(\"--> Recall score =\",recall_score(test_data.spam, base_predicted, average='macro'))"
   ]
  },
  {
   "cell_type": "code",
   "execution_count": 31,
   "metadata": {},
   "outputs": [
    {
     "name": "stdout",
     "output_type": "stream",
     "text": [
      "\u001b[1mExercise 1Bb:\u001b[0m\n",
      "--> Precision score = 0.975623530414645\n"
     ]
    }
   ],
   "source": [
    "# Exercise 1Bb\n",
    "# Precision Score\n",
    "\n",
    "print(style.BOLD + \"Exercise 1Bb:\" + style.END)\n",
    "print(\"--> Precision score =\",precision_score(test_data.spam, base_predicted, average='macro'))"
   ]
  },
  {
   "cell_type": "code",
   "execution_count": 32,
   "metadata": {},
   "outputs": [
    {
     "name": "stdout",
     "output_type": "stream",
     "text": [
      "\u001b[1mExercise 1Bb:\u001b[0m\n",
      "--> F1 score = 0.9750329470736081\n"
     ]
    }
   ],
   "source": [
    "# Exercise 1Bb\n",
    "# F1 Score\n",
    "\n",
    "print(style.BOLD + \"Exercise 1Bb:\" + style.END)\n",
    "print(\"--> F1 score =\",f1_score(test_data.spam, base_predicted, average='macro'))"
   ]
  },
  {
   "cell_type": "markdown",
   "metadata": {},
   "source": [
    "# Exercise 1Bc\n",
    "# Draw the ROC curve and calculate the AUC score using the test set."
   ]
  },
  {
   "cell_type": "code",
   "execution_count": 33,
   "metadata": {},
   "outputs": [],
   "source": [
    "# Probabilities prediction\n",
    "\n",
    "base_predicted_probabilities =  base_spam_classifier.predict_proba(test_features)\n",
    "#print(\"Dimensions of probabilities prediction:\",base_predicted_probabilities.shape,\"\\n\")\n",
    "#print(\"First 5 rows of probabilities prediction:\",base_predicted_probabilities[:5, :],\"\\n)"
   ]
  },
  {
   "cell_type": "code",
   "execution_count": 34,
   "metadata": {
    "scrolled": true
   },
   "outputs": [
    {
     "name": "stdout",
     "output_type": "stream",
     "text": [
      "[9.91594891e-215 3.79884477e-111 3.99576232e-012 1.00000000e+000\n",
      " 3.80746568e-087]\n",
      "405     0\n",
      "3122    0\n",
      "729     0\n",
      "546     1\n",
      "1940    0\n",
      "Name: spam, dtype: int32\n"
     ]
    }
   ],
   "source": [
    "# Priting predicted probabilities and test labels to choose proper columns for further analysis\n",
    "\n",
    "print(base_predicted_probabilities[:5, 1])\n",
    "print(test_data.spam[:5])"
   ]
  },
  {
   "cell_type": "code",
   "execution_count": 35,
   "metadata": {},
   "outputs": [],
   "source": [
    "# Roc curve function\n",
    "\n",
    "fpr_base, tpr_base, ths_base = roc_curve(test_data.spam, base_predicted_probabilities[:,1]);"
   ]
  },
  {
   "cell_type": "code",
   "execution_count": 36,
   "metadata": {},
   "outputs": [
    {
     "name": "stdout",
     "output_type": "stream",
     "text": [
      "\u001b[1mExercise 1Bc:\u001b[0m\n",
      "--> ROC curve for MultinomialNB classifier:\n"
     ]
    },
    {
     "data": {
      "image/png": "[encoded data removed]",
      "text/plain": [
       "<Figure size 864x576 with 1 Axes>"
      ]
     },
     "metadata": {
      "needs_background": "light"
     },
     "output_type": "display_data"
    }
   ],
   "source": [
    "# Exercise 1Bc\n",
    "# Roc curve drawing\n",
    "\n",
    "print(style.BOLD + \"Exercise 1Bc:\" + style.END)\n",
    "print(\"--> ROC curve for MultinomialNB classifier:\")\n",
    "\n",
    "fig1 = plt.figure(figsize=(12,8))\n",
    "\n",
    "ax1 = fig1.add_subplot(111)\n",
    "ax1.set_title(\"ROC curve\")\n",
    "ax1.set_xlabel(\"False Positive Rate\",fontsize=12)\n",
    "ax1.set_ylabel(\"True Positive Rate\",fontsize=12)\n",
    "\n",
    "ax1.plot(fpr_base, tpr_base,color=\"blue\")\n",
    "\n",
    "plt.show()"
   ]
  },
  {
   "cell_type": "code",
   "execution_count": 37,
   "metadata": {},
   "outputs": [
    {
     "name": "stdout",
     "output_type": "stream",
     "text": [
      "\u001b[1mExercise 1Bc:\u001b[0m\n",
      "--> AUC score for MultinomialNB classfier = 0.996984835600907\n"
     ]
    }
   ],
   "source": [
    "# Exercise 1Bc\n",
    "# AUC score\n",
    "\n",
    "base_AUC = roc_auc_score(test_data.spam, base_predicted_probabilities[:,1])\n",
    "\n",
    "print(style.BOLD + \"Exercise 1Bc:\" + style.END)\n",
    "print(\"--> AUC score for MultinomialNB classfier =\",base_AUC)"
   ]
  },
  {
   "cell_type": "markdown",
   "metadata": {},
   "source": [
    "# Exercise 1Bd\n",
    "# What percentage of valid mails is classified as spam?"
   ]
  },
  {
   "cell_type": "code",
   "execution_count": 38,
   "metadata": {},
   "outputs": [
    {
     "name": "stdout",
     "output_type": "stream",
     "text": [
      "\u001b[1mExercise 1Bd:\u001b[0m\n",
      "Percentage of ham mails identified as spam : 1.36%\n"
     ]
    }
   ],
   "source": [
    "# Exercise 1Bd\n",
    "# Percentage of ham mails identified as spam\n",
    "\n",
    "ham_as_spam_counts = np.count_nonzero(base_predicted[np.where(test_data.spam==0)]==1)\n",
    "ham_counts = len(base_predicted[np.where(test_data.spam==0)])\n",
    "\n",
    "print(style.BOLD + \"Exercise 1Bd:\" + style.END)\n",
    "print(\"Percentage of ham mails identified as spam : {0:.2%}\".format(ham_as_spam_counts/ham_counts))"
   ]
  },
  {
   "cell_type": "markdown",
   "metadata": {},
   "source": [
    "# Exercise 1Be\n",
    "# Assuming that only mails classified as ham are put in our mailbox what percentage of mail in our inbox is spam?"
   ]
  },
  {
   "cell_type": "code",
   "execution_count": 39,
   "metadata": {},
   "outputs": [
    {
     "name": "stdout",
     "output_type": "stream",
     "text": [
      "\u001b[1mExercise 1Be:\u001b[0m\n",
      "--> Percentage of spam mails in our mailbox: 1.53%\n"
     ]
    }
   ],
   "source": [
    "# Exercise 1Be\n",
    "# Percentage of spam mails in our mailbox (in set identified as ham)\n",
    "\n",
    "spam_as_ham_counts = np.count_nonzero(base_predicted[np.where(test_data.spam==1)]==0)\n",
    "identified_as_ham_counts = np.count_nonzero(base_predicted==0)\n",
    "print(style.BOLD + \"Exercise 1Be:\" + style.END)\n",
    "print(\"--> Percentage of spam mails in our mailbox: {0:.2%}\".format(spam_as_ham_counts/identified_as_ham_counts))"
   ]
  },
  {
   "cell_type": "markdown",
   "metadata": {},
   "source": [
    "# Exercise 1C\n",
    "# Find ten most probable and least probable words for each class."
   ]
  },
  {
   "cell_type": "code",
   "execution_count": 40,
   "metadata": {},
   "outputs": [],
   "source": [
    "# Function for converting indices to words\n",
    "\n",
    "def word(i):\n",
    "    return vectorizer.get_feature_names()[i]"
   ]
  },
  {
   "cell_type": "code",
   "execution_count": 41,
   "metadata": {},
   "outputs": [
    {
     "name": "stdout",
     "output_type": "stream",
     "text": [
      "\u001b[1mExercise 1C:\u001b[0m\n",
      "--> 10 most probable words in ham and spam mails:\n"
     ]
    },
    {
     "data": {
      "text/html": [
       "<div>\n",
       "<style scoped>\n",
       "    .dataframe tbody tr th:only-of-type {\n",
       "        vertical-align: middle;\n",
       "    }\n",
       "\n",
       "    .dataframe tbody tr th {\n",
       "        vertical-align: top;\n",
       "    }\n",
       "\n",
       "    .dataframe thead th {\n",
       "        text-align: right;\n",
       "    }\n",
       "</style>\n",
       "<table border=\"1\" class=\"dataframe\">\n",
       "  <thead>\n",
       "    <tr style=\"text-align: right;\">\n",
       "      <th></th>\n",
       "      <th>1</th>\n",
       "      <th>2</th>\n",
       "      <th>3</th>\n",
       "      <th>4</th>\n",
       "      <th>5</th>\n",
       "      <th>6</th>\n",
       "      <th>7</th>\n",
       "      <th>8</th>\n",
       "      <th>9</th>\n",
       "      <th>10</th>\n",
       "    </tr>\n",
       "  </thead>\n",
       "  <tbody>\n",
       "    <tr>\n",
       "      <th>ham</th>\n",
       "      <td>ect</td>\n",
       "      <td>hou</td>\n",
       "      <td>subject</td>\n",
       "      <td>enron</td>\n",
       "      <td>2000</td>\n",
       "      <td>gas</td>\n",
       "      <td>deal</td>\n",
       "      <td>meter</td>\n",
       "      <td>hpl</td>\n",
       "      <td>cc</td>\n",
       "    </tr>\n",
       "    <tr>\n",
       "      <th>spam</th>\n",
       "      <td>subject</td>\n",
       "      <td>com</td>\n",
       "      <td>http</td>\n",
       "      <td>company</td>\n",
       "      <td>font</td>\n",
       "      <td>td</td>\n",
       "      <td>www</td>\n",
       "      <td>00</td>\n",
       "      <td>information</td>\n",
       "      <td>statements</td>\n",
       "    </tr>\n",
       "  </tbody>\n",
       "</table>\n",
       "</div>"
      ],
      "text/plain": [
       "            1    2        3        4     5    6     7      8            9  \\\n",
       "ham       ect  hou  subject    enron  2000  gas  deal  meter          hpl   \n",
       "spam  subject  com     http  company  font   td   www     00  information   \n",
       "\n",
       "              10  \n",
       "ham           cc  \n",
       "spam  statements  "
      ]
     },
     "execution_count": 41,
     "metadata": {},
     "output_type": "execute_result"
    }
   ],
   "source": [
    "# Finding 10 most probable and words in both sets\n",
    "\n",
    "n = 10\n",
    "\n",
    "word = np.vectorize(word)\n",
    "\n",
    "most_probable = np.argsort(base_spam_classifier.feature_log_prob_,axis=1)[:,-1:-n-1:-1]\n",
    "most_probable_words = word(most_probable)\n",
    "\n",
    "print(style.BOLD + \"Exercise 1C:\" + style.END)\n",
    "print(\"--> 10 most probable words in ham and spam mails:\")\n",
    "pd.DataFrame(most_probable_words, index = [\"ham\",\"spam\"], columns=range(1,11))"
   ]
  },
  {
   "cell_type": "code",
   "execution_count": 42,
   "metadata": {},
   "outputs": [
    {
     "name": "stdout",
     "output_type": "stream",
     "text": [
      "\u001b[1mExercise 1C:\u001b[0m\n",
      "--> 10 least probable words in ham and spam mails:\n"
     ]
    },
    {
     "data": {
      "text/html": [
       "<div>\n",
       "<style scoped>\n",
       "    .dataframe tbody tr th:only-of-type {\n",
       "        vertical-align: middle;\n",
       "    }\n",
       "\n",
       "    .dataframe tbody tr th {\n",
       "        vertical-align: top;\n",
       "    }\n",
       "\n",
       "    .dataframe thead th {\n",
       "        text-align: right;\n",
       "    }\n",
       "</style>\n",
       "<table border=\"1\" class=\"dataframe\">\n",
       "  <thead>\n",
       "    <tr style=\"text-align: right;\">\n",
       "      <th></th>\n",
       "      <th>1</th>\n",
       "      <th>2</th>\n",
       "      <th>3</th>\n",
       "      <th>4</th>\n",
       "      <th>5</th>\n",
       "      <th>6</th>\n",
       "      <th>7</th>\n",
       "      <th>8</th>\n",
       "      <th>9</th>\n",
       "      <th>10</th>\n",
       "    </tr>\n",
       "  </thead>\n",
       "  <tbody>\n",
       "    <tr>\n",
       "      <th>ham</th>\n",
       "      <td>hyb</td>\n",
       "      <td>lunatics</td>\n",
       "      <td>lunary</td>\n",
       "      <td>lunar</td>\n",
       "      <td>lunacy</td>\n",
       "      <td>lumpish</td>\n",
       "      <td>lummox</td>\n",
       "      <td>luminosity</td>\n",
       "      <td>luminescent</td>\n",
       "      <td>luminance</td>\n",
       "    </tr>\n",
       "    <tr>\n",
       "      <th>spam</th>\n",
       "      <td>replacement</td>\n",
       "      <td>loring</td>\n",
       "      <td>lorio</td>\n",
       "      <td>bolt</td>\n",
       "      <td>loses</td>\n",
       "      <td>bombeck</td>\n",
       "      <td>feeding</td>\n",
       "      <td>feedbacks</td>\n",
       "      <td>bonaire</td>\n",
       "      <td>sixth</td>\n",
       "    </tr>\n",
       "  </tbody>\n",
       "</table>\n",
       "</div>"
      ],
      "text/plain": [
       "                1         2       3      4       5        6        7  \\\n",
       "ham           hyb  lunatics  lunary  lunar  lunacy  lumpish   lummox   \n",
       "spam  replacement    loring   lorio   bolt   loses  bombeck  feeding   \n",
       "\n",
       "               8            9         10  \n",
       "ham   luminosity  luminescent  luminance  \n",
       "spam   feedbacks      bonaire      sixth  "
      ]
     },
     "execution_count": 42,
     "metadata": {},
     "output_type": "execute_result"
    }
   ],
   "source": [
    "# Finding 10 least probable and words in both sets\n",
    "\n",
    "least_probable = np.argsort(base_spam_classifier.feature_log_prob_,axis=1)[:,:n]\n",
    "least_probable_words = word(least_probable)\n",
    "\n",
    "print(style.BOLD + \"Exercise 1C:\" + style.END)\n",
    "print(\"--> 10 least probable words in ham and spam mails:\")\n",
    "pd.DataFrame(least_probable_words, index = [\"ham\",\"spam\"], columns=range(1,11))"
   ]
  },
  {
   "cell_type": "markdown",
   "metadata": {},
   "source": [
    "# Exercise 1D\n",
    "# Check the classifier on the remaining datasets data/Enron_2-6. For each set calculate recall and precision."
   ]
  },
  {
   "cell_type": "code",
   "execution_count": 43,
   "metadata": {},
   "outputs": [],
   "source": [
    "# Loading remaining datasets\n",
    "\n",
    "data2 = load_files('data/Enron_2/', encoding='latin-1', shuffle=True, categories=['ham', 'spam'] )\n",
    "data3 = load_files('data/Enron_3/', encoding='latin-1', shuffle=True, categories=['ham', 'spam'] )\n",
    "data4 = load_files('data/Enron_4/', encoding='latin-1', shuffle=True, categories=['ham', 'spam'] )\n",
    "data5 = load_files('data/Enron_5/', encoding='latin-1', shuffle=True, categories=['ham', 'spam'] )\n",
    "data6 = load_files('data/Enron_6/', encoding='latin-1', shuffle=True, categories=['ham', 'spam'] )"
   ]
  },
  {
   "cell_type": "code",
   "execution_count": 44,
   "metadata": {},
   "outputs": [],
   "source": [
    "# Datasets to dataframes\n",
    "\n",
    "df2 = pd.DataFrame({'text': data2['data'], 'spam': data2['target']})\n",
    "df3 = pd.DataFrame({'text': data3['data'], 'spam': data3['target']})\n",
    "df4 = pd.DataFrame({'text': data4['data'], 'spam': data4['target']})\n",
    "df5 = pd.DataFrame({'text': data5['data'], 'spam': data5['target']})\n",
    "df6 = pd.DataFrame({'text': data6['data'], 'spam': data6['target']})"
   ]
  },
  {
   "cell_type": "code",
   "execution_count": 45,
   "metadata": {},
   "outputs": [],
   "source": [
    "# List of dataframes\n",
    "\n",
    "dfi=[df2, df3, df4, df5, df6]"
   ]
  },
  {
   "cell_type": "code",
   "execution_count": 46,
   "metadata": {},
   "outputs": [
    {
     "name": "stdout",
     "output_type": "stream",
     "text": [
      "\u001b[1mExercise 1D:\u001b[0m \n",
      "\n",
      "\u001b[1mDataset nr. 2:\u001b[0m\n",
      "--> Precision score = 0.9085812893699179\n",
      "--> Recall score = 0.9431016139354502\n",
      "--> F1 score = 0.9236795613069015 \n",
      "\n",
      "\u001b[1mDataset nr. 3:\u001b[0m\n",
      "--> Precision score = 0.9500057060491564\n",
      "--> Recall score = 0.9710417315882414\n",
      "--> F1 score = 0.9597455144719241 \n",
      "\n",
      "\u001b[1mDataset nr. 4:\u001b[0m\n",
      "--> Precision score = 0.9279634710758599\n",
      "--> Recall score = 0.9427719505418172\n",
      "--> F1 score = 0.9350238614063258 \n",
      "\n",
      "\u001b[1mDataset nr. 5:\u001b[0m\n",
      "--> Precision score = 0.9408132735954624\n",
      "--> Recall score = 0.9680697278911565\n",
      "--> F1 score = 0.9528214326511604 \n",
      "\n",
      "\u001b[1mDataset nr. 6:\u001b[0m\n",
      "--> Precision score = 0.9515917046161199\n",
      "--> Recall score = 0.9619444444444445\n",
      "--> F1 score = 0.9566128652465617 \n",
      "\n"
     ]
    }
   ],
   "source": [
    "# Exercise 1D\n",
    "# Precision Score and Recall Score on remaining datasets\n",
    "\n",
    "print(style.BOLD + \"Exercise 1D:\" + style.END,\"\\n\")\n",
    "for i in range(5):\n",
    "    base_predicted_i = base_spam_classifier.predict(vectorizer.transform(dfi[i].text))\n",
    "    print(style.BOLD + \"Dataset nr. {}:\".format(i+2) + style.END)\n",
    "    print(\"--> Precision score =\",precision_score(dfi[i].spam, base_predicted_i, average='macro'))\n",
    "    print(\"--> Recall score =\",recall_score(dfi[i].spam, base_predicted_i, average='macro'))\n",
    "    print(\"--> F1 score =\",f1_score(dfi[i].spam, base_predicted_i, average='macro'),\"\\n\")\n"
   ]
  },
  {
   "cell_type": "markdown",
   "metadata": {},
   "source": [
    "# Exercise 1E\n",
    "# Combine all sets. Train a new classifier on the combined set, of course after dividing into test and train sets. Redo point B. using this classifier and combined test set."
   ]
  },
  {
   "cell_type": "code",
   "execution_count": 47,
   "metadata": {},
   "outputs": [],
   "source": [
    "# Exercise 1E\n",
    "# Merging all datasets into one\n",
    "\n",
    "dlist=[df1, df2, df3, df4, df5, df6]\n",
    "df_all = pd.concat(dlist)"
   ]
  },
  {
   "cell_type": "code",
   "execution_count": 48,
   "metadata": {},
   "outputs": [],
   "source": [
    "seed = 57576\n",
    "train_data_all, test_data_all = train_test_split(df_all, test_size=0.2, stratify=df_all['spam'], random_state = seed)"
   ]
  },
  {
   "cell_type": "code",
   "execution_count": 49,
   "metadata": {},
   "outputs": [],
   "source": [
    "# Vectorizer initialization, fit and transform\n",
    "\n",
    "vectorizer_all = CountVectorizer()\n",
    "train_spam_score_all = vectorizer_all.fit_transform(train_data_all.text)\n",
    "test_spam_score_all = vectorizer_all.transform(test_data_all.text)\n",
    "\n",
    "# MultinomialNB classfier\n",
    "\n",
    "base_spam_classifier_all = MultinomialNB()\n",
    "base_spam_classifier_all.fit(train_spam_score_all, train_data_all.spam)\n",
    "\n",
    "# Predictions\n",
    "\n",
    "base_predicted_all = base_spam_classifier_all.predict(test_spam_score_all)\n",
    "base_predicted_probabilities_all = base_spam_classifier_all.predict_proba(test_spam_score_all)"
   ]
  },
  {
   "cell_type": "code",
   "execution_count": 50,
   "metadata": {},
   "outputs": [
    {
     "name": "stdout",
     "output_type": "stream",
     "text": [
      "\u001b[1mExercise 2E:\u001b[0m\n",
      "--> Number of documents in dataset = 21576\n",
      "--> Number of words in vocabulary = 127932\n"
     ]
    }
   ],
   "source": [
    "# Exercise 1E\n",
    "# Dimensions of vocabulary:\n",
    "print(style.BOLD + \"Exercise 2E:\" + style.END)\n",
    "print(\"--> Number of documents in dataset =\",train_spam_score_all.shape[0])\n",
    "print(\"--> Number of words in vocabulary =\",train_spam_score_all.shape[1])"
   ]
  },
  {
   "cell_type": "code",
   "execution_count": 51,
   "metadata": {},
   "outputs": [
    {
     "name": "stdout",
     "output_type": "stream",
     "text": [
      "Confusion matrix (normalised) in array form:\n",
      "\n",
      "[[0.48368558 0.00704486]\n",
      " [0.00760104 0.50166852]]\n"
     ]
    }
   ],
   "source": [
    "# Confusion matrix calculation\n",
    "\n",
    "outcome_freq = confusion_matrix(test_data_all.spam, base_predicted_all, normalize='all')\n",
    "\n",
    "print(\"Confusion matrix (normalised) in array form:\\n\")\n",
    "print(outcome_freq)"
   ]
  },
  {
   "cell_type": "code",
   "execution_count": 52,
   "metadata": {},
   "outputs": [
    {
     "name": "stdout",
     "output_type": "stream",
     "text": [
      "\u001b[1mExercise 1E:\u001b[0m\n",
      "--> Plotting confusion matrix:\n",
      "\n"
     ]
    },
    {
     "data": {
      "image/png": "[encoded data removed]",
      "text/plain": [
       "<Figure size 432x288 with 2 Axes>"
      ]
     },
     "metadata": {
      "needs_background": "light"
     },
     "output_type": "display_data"
    }
   ],
   "source": [
    "# Exercise 1E\n",
    "# Confusion matrix plot\n",
    "\n",
    "print(style.BOLD + \"Exercise 1E:\" + style.END)\n",
    "print(\"--> Plotting confusion matrix:\\n\")\n",
    "fig, ax = plt.subplots(figsize=(6,4))\n",
    "disp = plot_confusion_matrix(base_spam_classifier_all, test_spam_score_all, test_data_all.spam, normalize='true', ax=ax);"
   ]
  },
  {
   "cell_type": "code",
   "execution_count": 53,
   "metadata": {},
   "outputs": [
    {
     "name": "stdout",
     "output_type": "stream",
     "text": [
      "\u001b[1mExercise 1E:\u001b[0m\n",
      "--> Precision score = 0.9853399526926674\n",
      "--> Recall score = 0.9853593761453405\n",
      "--> F1 score = 0.985349359328858\n"
     ]
    }
   ],
   "source": [
    "# Exercise 1E\n",
    "# Recall Score\n",
    "\n",
    "print(style.BOLD + \"Exercise 1E:\" + style.END)\n",
    "print(\"--> Precision score =\",precision_score(test_data_all.spam, base_predicted_all, average='macro'))\n",
    "print(\"--> Recall score =\",recall_score(test_data_all.spam, base_predicted_all, average='macro'))\n",
    "print(\"--> F1 score =\",f1_score(test_data_all.spam, base_predicted_all, average='macro'))"
   ]
  },
  {
   "cell_type": "code",
   "execution_count": 54,
   "metadata": {},
   "outputs": [
    {
     "name": "stdout",
     "output_type": "stream",
     "text": [
      "\u001b[1mExercise 1E:\u001b[0m\n",
      "--> ROC curve for MultinomialNB classifier (all datasets):\n"
     ]
    },
    {
     "data": {
      "image/png": "[encoded data removed]",
      "text/plain": [
       "<Figure size 864x576 with 1 Axes>"
      ]
     },
     "metadata": {
      "needs_background": "light"
     },
     "output_type": "display_data"
    }
   ],
   "source": [
    "# Exercise 1E\n",
    "# Roc curve calculating and drawing\n",
    "\n",
    "fpr_all, tpr_all, ths_all = roc_curve(test_data_all.spam, base_predicted_probabilities_all[:,1]);\n",
    "\n",
    "print(style.BOLD + \"Exercise 1E:\" + style.END)\n",
    "print(\"--> ROC curve for MultinomialNB classifier (all datasets):\")\n",
    "\n",
    "fig1 = plt.figure(figsize=(12,8))\n",
    "\n",
    "ax1 = fig1.add_subplot(111)\n",
    "ax1.set_title(\"ROC curve\")\n",
    "ax1.set_xlabel(\"False Positive Rate\",fontsize=12)\n",
    "ax1.set_ylabel(\"True Positive Rate\",fontsize=12)\n",
    "\n",
    "ax1.plot(fpr_all, tpr_all,color=\"blue\")\n",
    "\n",
    "plt.show()"
   ]
  },
  {
   "cell_type": "code",
   "execution_count": 55,
   "metadata": {},
   "outputs": [
    {
     "name": "stdout",
     "output_type": "stream",
     "text": [
      "\u001b[1mExercise 1E:\u001b[0m\n",
      "--> AUC score for MultinomialNB classfier = 0.9958662876244154\n"
     ]
    }
   ],
   "source": [
    "# Exercise 1E\n",
    "# AUC score\n",
    "\n",
    "all_AUC = roc_auc_score(test_data_all.spam, base_predicted_probabilities_all[:,1])\n",
    "\n",
    "print(style.BOLD + \"Exercise 1E:\" + style.END)\n",
    "print(\"--> AUC score for MultinomialNB classfier =\",all_AUC)"
   ]
  },
  {
   "cell_type": "code",
   "execution_count": 56,
   "metadata": {},
   "outputs": [
    {
     "name": "stdout",
     "output_type": "stream",
     "text": [
      "\u001b[1mExercise 1E:\u001b[0m\n",
      "--> Percentage of ham mails identified as spam : 1.44%\n"
     ]
    }
   ],
   "source": [
    "# Exercise 1E\n",
    "# Percentage of ham mails identified as spam\n",
    "\n",
    "ham_as_spam_counts_all = np.count_nonzero(base_predicted_all[np.where(test_data_all.spam == 0)] == 1)\n",
    "ham_counts_all = len(base_predicted_all[np.where(test_data_all.spam == 0)])\n",
    "\n",
    "print(style.BOLD + \"Exercise 1E:\" + style.END)\n",
    "print(\"--> Percentage of ham mails identified as spam : {0:.2%}\".format(ham_as_spam_counts_all/ham_counts_all))"
   ]
  },
  {
   "cell_type": "code",
   "execution_count": 57,
   "metadata": {},
   "outputs": [
    {
     "name": "stdout",
     "output_type": "stream",
     "text": [
      "\u001b[1mExercise 1E:\u001b[0m\n",
      "--> Percentage of spam mails in our mailbox: 1.55%\n"
     ]
    }
   ],
   "source": [
    "# Exercise 1E\n",
    "# Percentage of spam mails in our mailbox (in set identified as ham)\n",
    "\n",
    "spam_as_ham_counts_all = np.count_nonzero(base_predicted_all[np.where(test_data_all.spam == 1)] == 0)\n",
    "identified_as_ham_counts_all = np.count_nonzero(base_predicted_all == 0)\n",
    "\n",
    "print(style.BOLD + \"Exercise 1E:\" + style.END)\n",
    "print(\"--> Percentage of spam mails in our mailbox: {0:.2%}\".format(spam_as_ham_counts_all/identified_as_ham_counts_all))"
   ]
  },
  {
   "cell_type": "markdown",
   "metadata": {},
   "source": [
    "# Exercise 1F\n",
    "# Assumimg that we want to keep the frequency of misclassified ham mails below 5 per file, what would be the percentage of spam in our inbox?"
   ]
  },
  {
   "cell_type": "code",
   "execution_count": null,
   "metadata": {},
   "outputs": [],
   "source": []
  }
 ],
 "metadata": {
  "kernelspec": {
   "display_name": "Python 3",
   "language": "python",
   "name": "python3"
  },
  "language_info": {
   "codemirror_mode": {
    "name": "ipython",
    "version": 3
   },
   "file_extension": ".py",
   "mimetype": "text/x-python",
   "name": "python",
   "nbconvert_exporter": "python",
   "pygments_lexer": "ipython3",
   "version": "3.7.6"
  }
 },
 "nbformat": 4,
 "nbformat_minor": 4
}
