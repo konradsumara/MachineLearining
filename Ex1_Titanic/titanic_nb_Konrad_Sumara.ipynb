{
 "cells": [
  {
   "cell_type": "code",
   "execution_count": 1,
   "metadata": {},
   "outputs": [],
   "source": [
    "import pandas as pd\n",
    "import numpy as np\n",
    "import matplotlib.pyplot as plt"
   ]
  },
  {
   "cell_type": "markdown",
   "metadata": {},
   "source": [
    "We will start by reading in the by now standard Titanic dataset. It contains infromation about passengers of the Titanic. The informations contain i.a. sex, age, name and familly and passenger class as well as information if the passenger survived or died in the disaster. You can find more information about this data set [here](http://campus.lakeforest.edu/frank/FILES/MLFfiles/Bio150/Titanic/TitanicMETA.pdf). "
   ]
  },
  {
   "cell_type": "markdown",
   "metadata": {},
   "source": [
    "The data set is in \"coma separted values\" (csv) format and the read it we will use the [pandas](https://pandas.pydata.org) library. Pandas library provides tools for manipulating  data frames and series and is widly used in data science projects. "
   ]
  },
  {
   "cell_type": "code",
   "execution_count": 2,
   "metadata": {},
   "outputs": [],
   "source": [
    "data = pd.read_csv(\"titanic3.csv\")"
   ]
  },
  {
   "cell_type": "markdown",
   "metadata": {},
   "source": [
    "We can check what attributes are stored in the DataFrame by listing the column names:"
   ]
  },
  {
   "cell_type": "code",
   "execution_count": 3,
   "metadata": {},
   "outputs": [
    {
     "data": {
      "text/plain": [
       "Index(['Unnamed: 0', 'pclass', 'survived', 'name', 'sex', 'age', 'sibsp',\n",
       "       'parch', 'ticket', 'fare', 'cabin', 'embarked', 'boat', 'body',\n",
       "       'home.dest'],\n",
       "      dtype='object')"
      ]
     },
     "execution_count": 3,
     "metadata": {},
     "output_type": "execute_result"
    }
   ],
   "source": [
    "data.columns"
   ]
  },
  {
   "cell_type": "markdown",
   "metadata": {},
   "source": [
    "or get a quick preview using ```head``` function: "
   ]
  },
  {
   "cell_type": "code",
   "execution_count": 4,
   "metadata": {},
   "outputs": [
    {
     "data": {
      "text/html": [
       "<div>\n",
       "<style scoped>\n",
       "    .dataframe tbody tr th:only-of-type {\n",
       "        vertical-align: middle;\n",
       "    }\n",
       "\n",
       "    .dataframe tbody tr th {\n",
       "        vertical-align: top;\n",
       "    }\n",
       "\n",
       "    .dataframe thead th {\n",
       "        text-align: right;\n",
       "    }\n",
       "</style>\n",
       "<table border=\"1\" class=\"dataframe\">\n",
       "  <thead>\n",
       "    <tr style=\"text-align: right;\">\n",
       "      <th></th>\n",
       "      <th>Unnamed: 0</th>\n",
       "      <th>pclass</th>\n",
       "      <th>survived</th>\n",
       "      <th>name</th>\n",
       "      <th>sex</th>\n",
       "      <th>age</th>\n",
       "      <th>sibsp</th>\n",
       "      <th>parch</th>\n",
       "      <th>ticket</th>\n",
       "      <th>fare</th>\n",
       "      <th>cabin</th>\n",
       "      <th>embarked</th>\n",
       "      <th>boat</th>\n",
       "      <th>body</th>\n",
       "      <th>home.dest</th>\n",
       "    </tr>\n",
       "  </thead>\n",
       "  <tbody>\n",
       "    <tr>\n",
       "      <th>0</th>\n",
       "      <td>0</td>\n",
       "      <td>1</td>\n",
       "      <td>1</td>\n",
       "      <td>Allen, Miss. Elisabeth Walton</td>\n",
       "      <td>female</td>\n",
       "      <td>29.0000</td>\n",
       "      <td>0</td>\n",
       "      <td>0</td>\n",
       "      <td>24160</td>\n",
       "      <td>211.3375</td>\n",
       "      <td>B5</td>\n",
       "      <td>S</td>\n",
       "      <td>2</td>\n",
       "      <td>NaN</td>\n",
       "      <td>St Louis, MO</td>\n",
       "    </tr>\n",
       "    <tr>\n",
       "      <th>1</th>\n",
       "      <td>1</td>\n",
       "      <td>1</td>\n",
       "      <td>1</td>\n",
       "      <td>Allison, Master. Hudson Trevor</td>\n",
       "      <td>male</td>\n",
       "      <td>0.9167</td>\n",
       "      <td>1</td>\n",
       "      <td>2</td>\n",
       "      <td>113781</td>\n",
       "      <td>151.5500</td>\n",
       "      <td>C22 C26</td>\n",
       "      <td>S</td>\n",
       "      <td>11</td>\n",
       "      <td>NaN</td>\n",
       "      <td>Montreal, PQ / Chesterville, ON</td>\n",
       "    </tr>\n",
       "    <tr>\n",
       "      <th>2</th>\n",
       "      <td>2</td>\n",
       "      <td>1</td>\n",
       "      <td>0</td>\n",
       "      <td>Allison, Miss. Helen Loraine</td>\n",
       "      <td>female</td>\n",
       "      <td>2.0000</td>\n",
       "      <td>1</td>\n",
       "      <td>2</td>\n",
       "      <td>113781</td>\n",
       "      <td>151.5500</td>\n",
       "      <td>C22 C26</td>\n",
       "      <td>S</td>\n",
       "      <td>NaN</td>\n",
       "      <td>NaN</td>\n",
       "      <td>Montreal, PQ / Chesterville, ON</td>\n",
       "    </tr>\n",
       "    <tr>\n",
       "      <th>3</th>\n",
       "      <td>3</td>\n",
       "      <td>1</td>\n",
       "      <td>0</td>\n",
       "      <td>Allison, Mr. Hudson Joshua Creighton</td>\n",
       "      <td>male</td>\n",
       "      <td>30.0000</td>\n",
       "      <td>1</td>\n",
       "      <td>2</td>\n",
       "      <td>113781</td>\n",
       "      <td>151.5500</td>\n",
       "      <td>C22 C26</td>\n",
       "      <td>S</td>\n",
       "      <td>NaN</td>\n",
       "      <td>135.0</td>\n",
       "      <td>Montreal, PQ / Chesterville, ON</td>\n",
       "    </tr>\n",
       "    <tr>\n",
       "      <th>4</th>\n",
       "      <td>4</td>\n",
       "      <td>1</td>\n",
       "      <td>0</td>\n",
       "      <td>Allison, Mrs. Hudson J C (Bessie Waldo Daniels)</td>\n",
       "      <td>female</td>\n",
       "      <td>25.0000</td>\n",
       "      <td>1</td>\n",
       "      <td>2</td>\n",
       "      <td>113781</td>\n",
       "      <td>151.5500</td>\n",
       "      <td>C22 C26</td>\n",
       "      <td>S</td>\n",
       "      <td>NaN</td>\n",
       "      <td>NaN</td>\n",
       "      <td>Montreal, PQ / Chesterville, ON</td>\n",
       "    </tr>\n",
       "  </tbody>\n",
       "</table>\n",
       "</div>"
      ],
      "text/plain": [
       "   Unnamed: 0  pclass  survived  \\\n",
       "0           0       1         1   \n",
       "1           1       1         1   \n",
       "2           2       1         0   \n",
       "3           3       1         0   \n",
       "4           4       1         0   \n",
       "\n",
       "                                              name     sex      age  sibsp  \\\n",
       "0                    Allen, Miss. Elisabeth Walton  female  29.0000      0   \n",
       "1                   Allison, Master. Hudson Trevor    male   0.9167      1   \n",
       "2                     Allison, Miss. Helen Loraine  female   2.0000      1   \n",
       "3             Allison, Mr. Hudson Joshua Creighton    male  30.0000      1   \n",
       "4  Allison, Mrs. Hudson J C (Bessie Waldo Daniels)  female  25.0000      1   \n",
       "\n",
       "   parch  ticket      fare    cabin embarked boat   body  \\\n",
       "0      0   24160  211.3375       B5        S    2    NaN   \n",
       "1      2  113781  151.5500  C22 C26        S   11    NaN   \n",
       "2      2  113781  151.5500  C22 C26        S  NaN    NaN   \n",
       "3      2  113781  151.5500  C22 C26        S  NaN  135.0   \n",
       "4      2  113781  151.5500  C22 C26        S  NaN    NaN   \n",
       "\n",
       "                         home.dest  \n",
       "0                     St Louis, MO  \n",
       "1  Montreal, PQ / Chesterville, ON  \n",
       "2  Montreal, PQ / Chesterville, ON  \n",
       "3  Montreal, PQ / Chesterville, ON  \n",
       "4  Montreal, PQ / Chesterville, ON  "
      ]
     },
     "execution_count": 4,
     "metadata": {},
     "output_type": "execute_result"
    }
   ],
   "source": [
    "data.head()"
   ]
  },
  {
   "cell_type": "markdown",
   "metadata": {},
   "source": [
    "For the description of the features please see the link given above. "
   ]
  },
  {
   "cell_type": "markdown",
   "metadata": {},
   "source": [
    "Another usefull function is ```info```:"
   ]
  },
  {
   "cell_type": "code",
   "execution_count": 5,
   "metadata": {},
   "outputs": [
    {
     "name": "stdout",
     "output_type": "stream",
     "text": [
      "<class 'pandas.core.frame.DataFrame'>\n",
      "RangeIndex: 1309 entries, 0 to 1308\n",
      "Data columns (total 15 columns):\n",
      " #   Column      Non-Null Count  Dtype  \n",
      "---  ------      --------------  -----  \n",
      " 0   Unnamed: 0  1309 non-null   int64  \n",
      " 1   pclass      1309 non-null   int64  \n",
      " 2   survived    1309 non-null   int64  \n",
      " 3   name        1309 non-null   object \n",
      " 4   sex         1309 non-null   object \n",
      " 5   age         1046 non-null   float64\n",
      " 6   sibsp       1309 non-null   int64  \n",
      " 7   parch       1309 non-null   int64  \n",
      " 8   ticket      1309 non-null   object \n",
      " 9   fare        1308 non-null   float64\n",
      " 10  cabin       295 non-null    object \n",
      " 11  embarked    1307 non-null   object \n",
      " 12  boat        486 non-null    object \n",
      " 13  body        121 non-null    float64\n",
      " 14  home.dest   745 non-null    object \n",
      "dtypes: float64(3), int64(5), object(7)\n",
      "memory usage: 153.5+ KB\n"
     ]
    }
   ],
   "source": [
    "data.info()"
   ]
  },
  {
   "cell_type": "markdown",
   "metadata": {},
   "source": [
    "As we can see not all attributes are know (non-null) for every passanger. This is a frequent situation in real datasets. "
   ]
  },
  {
   "cell_type": "markdown",
   "metadata": {},
   "source": [
    "## Problem 1"
   ]
  },
  {
   "cell_type": "markdown",
   "metadata": {},
   "source": [
    "a) Implement a Bayes classifier for predicting passenger survival  using sex and pclass  features. "
   ]
  },
  {
   "cell_type": "markdown",
   "metadata": {},
   "source": [
    "We will start by extracting from the frame the only the information we need:"
   ]
  },
  {
   "cell_type": "code",
   "execution_count": 6,
   "metadata": {},
   "outputs": [],
   "source": [
    "data_pclass_sex = data[['pclass', 'sex', 'survived']]"
   ]
  },
  {
   "cell_type": "code",
   "execution_count": 7,
   "metadata": {},
   "outputs": [
    {
     "data": {
      "text/html": [
       "<div>\n",
       "<style scoped>\n",
       "    .dataframe tbody tr th:only-of-type {\n",
       "        vertical-align: middle;\n",
       "    }\n",
       "\n",
       "    .dataframe tbody tr th {\n",
       "        vertical-align: top;\n",
       "    }\n",
       "\n",
       "    .dataframe thead th {\n",
       "        text-align: right;\n",
       "    }\n",
       "</style>\n",
       "<table border=\"1\" class=\"dataframe\">\n",
       "  <thead>\n",
       "    <tr style=\"text-align: right;\">\n",
       "      <th></th>\n",
       "      <th>pclass</th>\n",
       "      <th>sex</th>\n",
       "      <th>survived</th>\n",
       "    </tr>\n",
       "  </thead>\n",
       "  <tbody>\n",
       "    <tr>\n",
       "      <th>0</th>\n",
       "      <td>1</td>\n",
       "      <td>female</td>\n",
       "      <td>1</td>\n",
       "    </tr>\n",
       "    <tr>\n",
       "      <th>1</th>\n",
       "      <td>1</td>\n",
       "      <td>male</td>\n",
       "      <td>1</td>\n",
       "    </tr>\n",
       "    <tr>\n",
       "      <th>2</th>\n",
       "      <td>1</td>\n",
       "      <td>female</td>\n",
       "      <td>0</td>\n",
       "    </tr>\n",
       "    <tr>\n",
       "      <th>3</th>\n",
       "      <td>1</td>\n",
       "      <td>male</td>\n",
       "      <td>0</td>\n",
       "    </tr>\n",
       "    <tr>\n",
       "      <th>4</th>\n",
       "      <td>1</td>\n",
       "      <td>female</td>\n",
       "      <td>0</td>\n",
       "    </tr>\n",
       "  </tbody>\n",
       "</table>\n",
       "</div>"
      ],
      "text/plain": [
       "   pclass     sex  survived\n",
       "0       1  female         1\n",
       "1       1    male         1\n",
       "2       1  female         0\n",
       "3       1    male         0\n",
       "4       1  female         0"
      ]
     },
     "execution_count": 7,
     "metadata": {},
     "output_type": "execute_result"
    }
   ],
   "source": [
    "data_pclass_sex.head()"
   ]
  },
  {
   "cell_type": "code",
   "execution_count": 8,
   "metadata": {},
   "outputs": [
    {
     "name": "stdout",
     "output_type": "stream",
     "text": [
      "<class 'pandas.core.frame.DataFrame'>\n",
      "RangeIndex: 1309 entries, 0 to 1308\n",
      "Data columns (total 3 columns):\n",
      " #   Column    Non-Null Count  Dtype \n",
      "---  ------    --------------  ----- \n",
      " 0   pclass    1309 non-null   int64 \n",
      " 1   sex       1309 non-null   object\n",
      " 2   survived  1309 non-null   int64 \n",
      "dtypes: int64(2), object(1)\n",
      "memory usage: 30.8+ KB\n"
     ]
    }
   ],
   "source": [
    "data_pclass_sex.info()"
   ]
  },
  {
   "cell_type": "markdown",
   "metadata": {},
   "source": [
    "Then we need to group passengers according to sex, class and survival status. This can be achived using  the ```groupby``` function:"
   ]
  },
  {
   "cell_type": "code",
   "execution_count": 9,
   "metadata": {},
   "outputs": [],
   "source": [
    "# Data grouping\n",
    "grouped = data_pclass_sex.groupby(['survived','sex','pclass'])"
   ]
  },
  {
   "cell_type": "markdown",
   "metadata": {},
   "source": [
    "We can count the number of passegers in each group using function ```size```:"
   ]
  },
  {
   "cell_type": "markdown",
   "metadata": {},
   "source": [
    "counts = grouped.size()"
   ]
  },
  {
   "cell_type": "code",
   "execution_count": 10,
   "metadata": {},
   "outputs": [],
   "source": [
    "# Data groups counts\n",
    "counts = grouped.size()"
   ]
  },
  {
   "cell_type": "markdown",
   "metadata": {},
   "source": [
    "Object ```counts``` contains all the information that we need to construct the classifier:"
   ]
  },
  {
   "cell_type": "code",
   "execution_count": 11,
   "metadata": {},
   "outputs": [
    {
     "name": "stdout",
     "output_type": "stream",
     "text": [
      "survived  sex     pclass\n",
      "0         female  1           5\n",
      "                  2          12\n",
      "                  3         110\n",
      "          male    1         118\n",
      "                  2         146\n",
      "                  3         418\n",
      "1         female  1         139\n",
      "                  2          94\n",
      "                  3         106\n",
      "          male    1          61\n",
      "                  2          25\n",
      "                  3          75\n",
      "dtype: int64\n"
     ]
    }
   ],
   "source": [
    "print(counts)"
   ]
  },
  {
   "cell_type": "markdown",
   "metadata": {},
   "source": [
    "You can index ```counts``` to obtain information on specified subgroups. E.g. ```counts[0]``` is a subgroup  that contains people that perished in the disaster. "
   ]
  },
  {
   "cell_type": "code",
   "execution_count": 12,
   "metadata": {},
   "outputs": [
    {
     "name": "stdout",
     "output_type": "stream",
     "text": [
      "sex     pclass\n",
      "female  1           5\n",
      "        2          12\n",
      "        3         110\n",
      "male    1         118\n",
      "        2         146\n",
      "        3         418\n",
      "dtype: int64\n"
     ]
    }
   ],
   "source": [
    "print(counts[0])"
   ]
  },
  {
   "cell_type": "code",
   "execution_count": 13,
   "metadata": {},
   "outputs": [
    {
     "data": {
      "text/plain": [
       "pclass\n",
       "1      5\n",
       "2     12\n",
       "3    110\n",
       "dtype: int64"
      ]
     },
     "execution_count": 13,
     "metadata": {},
     "output_type": "execute_result"
    }
   ],
   "source": [
    "counts[(0,'female')]"
   ]
  },
  {
   "cell_type": "markdown",
   "metadata": {},
   "source": [
    "Function ```sum``` can be used to count all passengers in a given (sub)group:"
   ]
  },
  {
   "cell_type": "code",
   "execution_count": 14,
   "metadata": {},
   "outputs": [
    {
     "name": "stdout",
     "output_type": "stream",
     "text": [
      "1309 500 809\n",
      "True\n"
     ]
    }
   ],
   "source": [
    "n_passengers = counts.sum()\n",
    "n_survivors = counts[1].sum()\n",
    "n_dead = counts[0].sum()\n",
    "\n",
    "print(n_passengers, n_survivors, n_dead)\n",
    "print(n_survivors+n_dead==n_passengers)"
   ]
  },
  {
   "cell_type": "markdown",
   "metadata": {},
   "source": [
    "To implement classifier we need to calculate the conditional probability of survival given sex and class:"
   ]
  },
  {
   "cell_type": "markdown",
   "metadata": {},
   "source": [
    "$$P(surv|sex, pclass)$$"
   ]
  },
  {
   "cell_type": "markdown",
   "metadata": {},
   "source": [
    "We can use the Bayes theorem but it will be actually quicker to calculate it directly from the definition:"
   ]
  },
  {
   "cell_type": "markdown",
   "metadata": {},
   "source": [
    "$$P(surv|sex, pclass)=\\frac{P(surv,sex, pclass)}{P(sex, pclass)}\n",
    "\\approx \\frac{\\#(surv,sex, pclass)}{\\#(sex,pclass)}$$"
   ]
  },
  {
   "cell_type": "markdown",
   "metadata": {},
   "source": [
    "where by $\\#$ I have denoted the number of passengers with given attributes. For example the probability of survival for a women traveling in second class was: "
   ]
  },
  {
   "cell_type": "markdown",
   "metadata": {},
   "source": [
    "$$\\frac{\\text{number of women in second class that survived}}{\\text{number of women in second class}}$$"
   ]
  },
  {
   "cell_type": "markdown",
   "metadata": {},
   "source": [
    "That can be calculated using the `counts` object:"
   ]
  },
  {
   "cell_type": "code",
   "execution_count": 15,
   "metadata": {},
   "outputs": [
    {
     "name": "stdout",
     "output_type": "stream",
     "text": [
      "Probability of survival for female in 1st class =  0.9652777777777778\n",
      "Probability of survival for female in 2nd class =  0.8867924528301887\n",
      "Probability of survival for female in 3rd class =  0.49074074074074076\n",
      "Probability of survival for male in 1st class =  0.3407821229050279\n",
      "Probability of survival for male in 12nd class =  0.14619883040935672\n",
      "Probability of survival for male in 3rd class =  0.15212981744421908\n"
     ]
    }
   ],
   "source": [
    "# Survival probabilities for each group calculation\n",
    "Ps_f_1 = counts[(1,'female',1)]/(counts[(1,'female',1)]+counts[(0,'female',1)])\n",
    "print(\"Probability of survival for female in 1st class = \",Ps_f_1)\n",
    "\n",
    "Ps_f_2 = counts[(1,'female',2)]/(counts[(1,'female',2)]+counts[(0,'female',2)])\n",
    "print(\"Probability of survival for female in 2nd class = \",Ps_f_2)\n",
    "\n",
    "Ps_f_3 = counts[(1,'female',3)]/(counts[(1,'female',3)]+counts[(0,'female',3)])\n",
    "print(\"Probability of survival for female in 3rd class = \",Ps_f_3)\n",
    "\n",
    "Ps_m_1 = counts[(1,'male',1)]/(counts[(1,'male',1)]+counts[(0,'male',1)])\n",
    "print(\"Probability of survival for male in 1st class = \",Ps_m_1)\n",
    "\n",
    "Ps_m_2 = counts[(1,'male',2)]/(counts[(1,'male',2)]+counts[(0,'male',2)])\n",
    "print(\"Probability of survival for male in 12nd class = \",Ps_m_2)\n",
    "\n",
    "Ps_m_3 = counts[(1,'male',3)]/(counts[(1,'male',3)]+counts[(0,'male',3)])\n",
    "print(\"Probability of survival for male in 3rd class = \",Ps_m_3)"
   ]
  },
  {
   "cell_type": "markdown",
   "metadata": {},
   "source": [
    "This operation has to be repeated for every sex and class combination. "
   ]
  },
  {
   "cell_type": "markdown",
   "metadata": {},
   "source": [
    "b) Calculate TPR and FPR on test set. Draw the ROC curve and calculate AUC score"
   ]
  },
  {
   "cell_type": "code",
   "execution_count": 16,
   "metadata": {},
   "outputs": [
    {
     "name": "stdout",
     "output_type": "stream",
     "text": [
      "Probability of survival is greater than 0.5 for females in 1st class and females in 2nd class - those two groups are predicted to survive. That means TPR and FPR are as follow: \n",
      "TPR =  0.932\n",
      "FPR =  0.068\n"
     ]
    }
   ],
   "source": [
    "# TPR and FPR calculation\n",
    "print(\"Probability of survival is greater than 0.5 for females in 1st class and females in 2nd class - those two groups are predicted to survive. That means TPR and FPR are as follow: \")\n",
    "\n",
    "TPR = (counts[(1,'female',1)] + counts[(1,'female',2)])/(counts[(1,'female',1)] + counts[(0,'female',1)] + counts[(1,'female',2)] + counts[(0,'female',2)])\n",
    "\n",
    "FPR = (counts[(0,'female',1)] + counts[(0,'female',2)])/(counts[(1,'female',1)] + counts[(0,'female',1)] + counts[(1,'female',2)] + counts[(0,'female',2)])\n",
    "\n",
    "print(\"TPR = \",TPR)\n",
    "print(\"FPR = \",FPR)"
   ]
  },
  {
   "cell_type": "code",
   "execution_count": 17,
   "metadata": {},
   "outputs": [],
   "source": [
    "# Assigning survival probability to each passenger\n",
    "\n",
    "def f(row):\n",
    "    if row['sex'] == 'female' and row['pclass'] == 1:\n",
    "        val = Ps_f_1\n",
    "    elif row['sex'] == 'female' and row['pclass'] == 2:\n",
    "        val = Ps_f_2\n",
    "    elif row['sex'] == 'female' and row['pclass'] == 3:\n",
    "        val = Ps_f_3\n",
    "    elif row['sex'] == 'male' and row['pclass'] == 1:\n",
    "        val = Ps_m_1\n",
    "    elif row['sex'] == 'male' and row['pclass'] == 2:\n",
    "        val = Ps_m_2\n",
    "    elif row['sex'] == 'male' and row['pclass'] == 3:\n",
    "        val = Ps_m_3\n",
    "    return val\n"
   ]
  },
  {
   "cell_type": "code",
   "execution_count": 18,
   "metadata": {},
   "outputs": [
    {
     "name": "stderr",
     "output_type": "stream",
     "text": [
      "/home/konrad/anaconda3/envs/datascience/lib/python3.7/site-packages/ipykernel_launcher.py:1: SettingWithCopyWarning: \n",
      "A value is trying to be set on a copy of a slice from a DataFrame.\n",
      "Try using .loc[row_indexer,col_indexer] = value instead\n",
      "\n",
      "See the caveats in the documentation: https://pandas.pydata.org/pandas-docs/stable/user_guide/indexing.html#returning-a-view-versus-a-copy\n",
      "  \"\"\"Entry point for launching an IPython kernel.\n"
     ]
    }
   ],
   "source": [
    "data_pclass_sex['probability'] = data_pclass_sex.apply(f, axis=1)"
   ]
  },
  {
   "cell_type": "code",
   "execution_count": 19,
   "metadata": {},
   "outputs": [
    {
     "data": {
      "text/html": [
       "<div>\n",
       "<style scoped>\n",
       "    .dataframe tbody tr th:only-of-type {\n",
       "        vertical-align: middle;\n",
       "    }\n",
       "\n",
       "    .dataframe tbody tr th {\n",
       "        vertical-align: top;\n",
       "    }\n",
       "\n",
       "    .dataframe thead th {\n",
       "        text-align: right;\n",
       "    }\n",
       "</style>\n",
       "<table border=\"1\" class=\"dataframe\">\n",
       "  <thead>\n",
       "    <tr style=\"text-align: right;\">\n",
       "      <th></th>\n",
       "      <th>pclass</th>\n",
       "      <th>sex</th>\n",
       "      <th>survived</th>\n",
       "      <th>probability</th>\n",
       "    </tr>\n",
       "  </thead>\n",
       "  <tbody>\n",
       "    <tr>\n",
       "      <th>0</th>\n",
       "      <td>1</td>\n",
       "      <td>female</td>\n",
       "      <td>1</td>\n",
       "      <td>0.965278</td>\n",
       "    </tr>\n",
       "    <tr>\n",
       "      <th>1</th>\n",
       "      <td>1</td>\n",
       "      <td>male</td>\n",
       "      <td>1</td>\n",
       "      <td>0.340782</td>\n",
       "    </tr>\n",
       "    <tr>\n",
       "      <th>2</th>\n",
       "      <td>1</td>\n",
       "      <td>female</td>\n",
       "      <td>0</td>\n",
       "      <td>0.965278</td>\n",
       "    </tr>\n",
       "    <tr>\n",
       "      <th>3</th>\n",
       "      <td>1</td>\n",
       "      <td>male</td>\n",
       "      <td>0</td>\n",
       "      <td>0.340782</td>\n",
       "    </tr>\n",
       "    <tr>\n",
       "      <th>4</th>\n",
       "      <td>1</td>\n",
       "      <td>female</td>\n",
       "      <td>0</td>\n",
       "      <td>0.965278</td>\n",
       "    </tr>\n",
       "  </tbody>\n",
       "</table>\n",
       "</div>"
      ],
      "text/plain": [
       "   pclass     sex  survived  probability\n",
       "0       1  female         1     0.965278\n",
       "1       1    male         1     0.340782\n",
       "2       1  female         0     0.965278\n",
       "3       1    male         0     0.340782\n",
       "4       1  female         0     0.965278"
      ]
     },
     "execution_count": 19,
     "metadata": {},
     "output_type": "execute_result"
    }
   ],
   "source": [
    "data_pclass_sex.head()"
   ]
  },
  {
   "cell_type": "code",
   "execution_count": 20,
   "metadata": {},
   "outputs": [
    {
     "data": {
      "text/html": [
       "<div>\n",
       "<style scoped>\n",
       "    .dataframe tbody tr th:only-of-type {\n",
       "        vertical-align: middle;\n",
       "    }\n",
       "\n",
       "    .dataframe tbody tr th {\n",
       "        vertical-align: top;\n",
       "    }\n",
       "\n",
       "    .dataframe thead th {\n",
       "        text-align: right;\n",
       "    }\n",
       "</style>\n",
       "<table border=\"1\" class=\"dataframe\">\n",
       "  <thead>\n",
       "    <tr style=\"text-align: right;\">\n",
       "      <th></th>\n",
       "      <th>probability</th>\n",
       "    </tr>\n",
       "  </thead>\n",
       "  <tbody>\n",
       "    <tr>\n",
       "      <th>0</th>\n",
       "      <td>0.965278</td>\n",
       "    </tr>\n",
       "    <tr>\n",
       "      <th>1</th>\n",
       "      <td>0.340782</td>\n",
       "    </tr>\n",
       "    <tr>\n",
       "      <th>2</th>\n",
       "      <td>0.965278</td>\n",
       "    </tr>\n",
       "    <tr>\n",
       "      <th>3</th>\n",
       "      <td>0.340782</td>\n",
       "    </tr>\n",
       "    <tr>\n",
       "      <th>4</th>\n",
       "      <td>0.965278</td>\n",
       "    </tr>\n",
       "  </tbody>\n",
       "</table>\n",
       "</div>"
      ],
      "text/plain": [
       "   probability\n",
       "0     0.965278\n",
       "1     0.340782\n",
       "2     0.965278\n",
       "3     0.340782\n",
       "4     0.965278"
      ]
     },
     "execution_count": 20,
     "metadata": {},
     "output_type": "execute_result"
    }
   ],
   "source": [
    "# Extracting labels and survival_probability columns from dataframe\n",
    "\n",
    "labels_df = data_pclass_sex[['survived']]\n",
    "\n",
    "survival_probability_df = data_pclass_sex[['probability']]\n",
    "survival_probability_df.head()"
   ]
  },
  {
   "cell_type": "code",
   "execution_count": 21,
   "metadata": {},
   "outputs": [
    {
     "name": "stdout",
     "output_type": "stream",
     "text": [
      "[[1]\n",
      " [1]\n",
      " [0]\n",
      " ...\n",
      " [0]\n",
      " [0]\n",
      " [0]] \n",
      "\n",
      "[[0.96527778]\n",
      " [0.34078212]\n",
      " [0.96527778]\n",
      " ...\n",
      " [0.15212982]\n",
      " [0.15212982]\n",
      " [0.15212982]]\n"
     ]
    }
   ],
   "source": [
    "# Dataframe columns to arrays\n",
    "\n",
    "labels = labels_df.to_numpy()\n",
    "survival_probability = survival_probability_df.to_numpy()\n",
    "\n",
    "print(labels,'\\n')\n",
    "print(survival_probability)"
   ]
  },
  {
   "cell_type": "code",
   "execution_count": 22,
   "metadata": {},
   "outputs": [],
   "source": [
    "from sklearn.metrics import roc_curve, roc_auc_score"
   ]
  },
  {
   "cell_type": "code",
   "execution_count": 23,
   "metadata": {},
   "outputs": [],
   "source": [
    "# Roc curve function\n",
    "fpr, tpr, ths = roc_curve(labels, survival_probability);"
   ]
  },
  {
   "cell_type": "code",
   "execution_count": 24,
   "metadata": {},
   "outputs": [
    {
     "data": {
      "image/png": "[encoded data removed]",
      "text/plain": [
       "<Figure size 1080x432 with 1 Axes>"
      ]
     },
     "metadata": {
      "needs_background": "light"
     },
     "output_type": "display_data"
    },
    {
     "name": "stdout",
     "output_type": "stream",
     "text": [
      "ROC curve for Bayes Classifier\n"
     ]
    }
   ],
   "source": [
    "# Roc curve drawing\n",
    "fig1 = plt.figure(figsize=(15,6))\n",
    "\n",
    "ax1 = fig1.add_subplot(111)\n",
    "ax1.set_title(\"ROC curve\")\n",
    "ax1.set_xlabel(\"False Positive Rate\",fontsize=12)\n",
    "ax1.set_ylabel(\"True Positive Rate\",fontsize=12)\n",
    "\n",
    "ax1.plot(fpr, tpr,color=\"blue\")\n",
    "\n",
    "plt.show()\n",
    "\n",
    "print('ROC curve for Bayes Classifier')\n",
    "\n",
    "# plt.plot(fpr,tpr);"
   ]
  },
  {
   "cell_type": "code",
   "execution_count": 25,
   "metadata": {},
   "outputs": [
    {
     "name": "stdout",
     "output_type": "stream",
     "text": [
      "AUC score for Bayes Classifier =  0.8200012360939432\n"
     ]
    }
   ],
   "source": [
    "#AUC score\n",
    "Bayes_AUC = roc_auc_score(labels, survival_probability)\n",
    "print(\"AUC score for Bayes Classifier = \",Bayes_AUC)"
   ]
  },
  {
   "cell_type": "markdown",
   "metadata": {},
   "source": [
    "c) Are those features conditionally independent? "
   ]
  },
  {
   "cell_type": "code",
   "execution_count": 26,
   "metadata": {},
   "outputs": [
    {
     "name": "stdout",
     "output_type": "stream",
     "text": [
      "Ps_f =  0.7274678111587983\n",
      "Ps_m =  0.19098457888493475 \n",
      "\n",
      "Ps_1 =  0.6191950464396285\n",
      "Ps_2 =  0.4296028880866426\n",
      "Ps_3 =  0.2383638928067701\n"
     ]
    }
   ],
   "source": [
    "Ps_f = (counts[(1,'female')].sum())/(counts[(1,'female')].sum() + counts[(0,'female')].sum())\n",
    "Ps_m = (counts[(1,'male')].sum())/(counts[(1,'male')].sum() + counts[(0,'male')].sum())\n",
    "\n",
    "Ps_1 = (counts[(1,'female',1)] + counts[(1,'male',1)])/(counts[(1,'female',1)] + counts[(1,'male',1)] + counts[(0,'female',1)] + counts[(0,'male',1)])\n",
    "Ps_2 = (counts[(1,'female',2)] + counts[(1,'male',2)])/(counts[(1,'female',2)] + counts[(1,'male',2)] + counts[(0,'female',2)] + counts[(0,'male',2)])\n",
    "Ps_3 = (counts[(1,'female',2)] + counts[(1,'male',3)])/(counts[(1,'female',3)] + counts[(1,'male',3)] + counts[(0,'female',3)] + counts[(0,'male',3)])\n",
    "\n",
    "print('Ps_f = ',Ps_f)\n",
    "print('Ps_m = ',Ps_m,'\\n')\n",
    "print('Ps_1 = ',Ps_1)\n",
    "print('Ps_2 = ',Ps_2)\n",
    "print('Ps_3 = ',Ps_3)"
   ]
  },
  {
   "cell_type": "code",
   "execution_count": 27,
   "metadata": {},
   "outputs": [
    {
     "name": "stdout",
     "output_type": "stream",
     "text": [
      "Ps_f_1 =  0.9652777777777778  and Ps_f * Ps_1 =  0.45044446511380704\n"
     ]
    }
   ],
   "source": [
    "print('Ps_f_1 = ',Ps_f_1,' and Ps_f * Ps_1 = ',Ps_f * Ps_1)"
   ]
  },
  {
   "cell_type": "code",
   "execution_count": 28,
   "metadata": {},
   "outputs": [
    {
     "data": {
      "text/plain": [
       "500"
      ]
     },
     "execution_count": 28,
     "metadata": {},
     "output_type": "execute_result"
    }
   ],
   "source": [
    "counts[1].sum()"
   ]
  },
  {
   "cell_type": "code",
   "execution_count": 29,
   "metadata": {},
   "outputs": [
    {
     "name": "stdout",
     "output_type": "stream",
     "text": [
      "0.678\n"
     ]
    }
   ],
   "source": [
    "# Conditional sex or class category probabilities if passenger survived/died (for conditional independence check)\n",
    "Pf_s = (counts[(1,'female')].sum())/(counts[1].sum())\n",
    "Pm_s = (counts[(1,'male')].sum())/(counts[1].sum())\n",
    "\n",
    "Pf_d = (counts[(0,'female')].sum())/(counts[0].sum())\n",
    "Pm_d = (counts[(0,'male')].sum())/(counts[0].sum())\n",
    "\n",
    "P1_s = (counts[(1,'female',1)] + counts[(1,'male',1)])/(counts[1].sum())\n",
    "P2_s = (counts[(1,'female',2)] + counts[(1,'male',2)])/(counts[1].sum())\n",
    "P3_s = (counts[(1,'female',3)] + counts[(1,'male',3)])/(counts[1].sum())\n",
    "\n",
    "P1_d = (counts[(0,'female',1)] + counts[(0,'male',1)])/(counts[0].sum())\n",
    "P2_d = (counts[(0,'female',2)] + counts[(0,'male',2)])/(counts[0].sum())\n",
    "P3_d = (counts[(0,'female',3)] + counts[(0,'male',3)])/(counts[0].sum())\n",
    "\n",
    "print(Pf_s)"
   ]
  },
  {
   "cell_type": "code",
   "execution_count": 30,
   "metadata": {},
   "outputs": [
    {
     "name": "stdout",
     "output_type": "stream",
     "text": [
      "0.278\n",
      "0.27120000000000005\n"
     ]
    }
   ],
   "source": [
    "# Conditional sex and class category probabilities if passenger survived/died (for conditional independence check)\n",
    "Pf1_s = counts[(1,'female',1)] /(counts[1].sum())\n",
    "Pf2_s = counts[(1,'female',2)] /(counts[1].sum())\n",
    "Pf3_s = counts[(1,'female',3)] /(counts[1].sum())\n",
    "\n",
    "Pm1_s = counts[(1,'male',1)] /(counts[1].sum())\n",
    "Pm2_s = counts[(1,'male',2)] /(counts[1].sum())\n",
    "Pm3_s = counts[(1,'male',3)] /(counts[1].sum())\n",
    "\n",
    "print(Pf1_s)\n",
    "\n",
    "print(Pf_s * P1_s)"
   ]
  },
  {
   "cell_type": "code",
   "execution_count": 31,
   "metadata": {},
   "outputs": [
    {
     "name": "stdout",
     "output_type": "stream",
     "text": [
      "Conditional independence examples:\n",
      "\n",
      "1st class female probability if survived (Bayes probability)=  0.278\n",
      "1st class female probability if survived (Naive Bayes probability)=  0.27120000000000005\n",
      "2nd class male probability if survived (Bayes probability)=  0.05\n",
      "2nd class male probability if survived (Naive Bayes probability)=  0.076636\n",
      "Acquired probability values are very simmilar, so the variables are fairly conditionally independent\n"
     ]
    }
   ],
   "source": [
    "print(\"Conditional independence examples:\\n\")\n",
    "print(\"1st class female probability if survived (Bayes probability)= \",Pf1_s)\n",
    "print(\"1st class female probability if survived (Naive Bayes probability)= \",Pf_s * P1_s)\n",
    "\n",
    "print(\"2nd class male probability if survived (Bayes probability)= \",Pm2_s)\n",
    "print(\"2nd class male probability if survived (Naive Bayes probability)= \",Pm_s * P2_s)\n",
    "\n",
    "print(\"Acquired probability values are very simmilar, so the variables are fairly conditionally independent\")"
   ]
  },
  {
   "cell_type": "markdown",
   "metadata": {},
   "source": [
    "d) Implement a Naive bayes classifier using same features and compare it with a). "
   ]
  },
  {
   "cell_type": "code",
   "execution_count": 32,
   "metadata": {},
   "outputs": [],
   "source": [
    "# Naive Bayes survival probability calculation for each passenger\n",
    "P_surv = counts[1].sum()/counts.sum()\n",
    "P_death = counts[0].sum()/counts.sum()\n",
    "\n",
    "def nb(row):\n",
    "    if row['sex'] == 'female':\n",
    "        P_f1_s = Pf_s\n",
    "        P_f1_d = Pf_d\n",
    "    elif row['sex'] == 'male':\n",
    "        P_f1_s = Pm_s\n",
    "        P_f1_d = Pm_d\n",
    "        \n",
    "    if row['pclass'] == 1:\n",
    "        P_f2_s = P1_s \n",
    "        P_f2_d = P1_d\n",
    "    elif row['pclass'] == 2:\n",
    "        P_f2_s = P2_s \n",
    "        P_f2_d = P2_d\n",
    "    elif row['pclass'] == 3:\n",
    "        P_f2_s = P3_s \n",
    "        P_f2_d = P3_d\n",
    "    \n",
    "    val = (P_surv*P_f1_s*P_f2_s)/(P_surv*P_f1_s*P_f2_s + P_death*P_f1_d*P_f2_d)\n",
    "    return val"
   ]
  },
  {
   "cell_type": "code",
   "execution_count": 33,
   "metadata": {},
   "outputs": [
    {
     "name": "stderr",
     "output_type": "stream",
     "text": [
      "/home/konrad/anaconda3/envs/datascience/lib/python3.7/site-packages/ipykernel_launcher.py:1: SettingWithCopyWarning: \n",
      "A value is trying to be set on a copy of a slice from a DataFrame.\n",
      "Try using .loc[row_indexer,col_indexer] = value instead\n",
      "\n",
      "See the caveats in the documentation: https://pandas.pydata.org/pandas-docs/stable/user_guide/indexing.html#returning-a-view-versus-a-copy\n",
      "  \"\"\"Entry point for launching an IPython kernel.\n"
     ]
    }
   ],
   "source": [
    "data_pclass_sex['NB_probability'] = data_pclass_sex.apply(nb, axis=1)"
   ]
  },
  {
   "cell_type": "code",
   "execution_count": 34,
   "metadata": {},
   "outputs": [
    {
     "data": {
      "text/html": [
       "<div>\n",
       "<style scoped>\n",
       "    .dataframe tbody tr th:only-of-type {\n",
       "        vertical-align: middle;\n",
       "    }\n",
       "\n",
       "    .dataframe tbody tr th {\n",
       "        vertical-align: top;\n",
       "    }\n",
       "\n",
       "    .dataframe thead th {\n",
       "        text-align: right;\n",
       "    }\n",
       "</style>\n",
       "<table border=\"1\" class=\"dataframe\">\n",
       "  <thead>\n",
       "    <tr style=\"text-align: right;\">\n",
       "      <th></th>\n",
       "      <th>pclass</th>\n",
       "      <th>sex</th>\n",
       "      <th>survived</th>\n",
       "      <th>probability</th>\n",
       "      <th>NB_probability</th>\n",
       "    </tr>\n",
       "  </thead>\n",
       "  <tbody>\n",
       "    <tr>\n",
       "      <th>0</th>\n",
       "      <td>1</td>\n",
       "      <td>female</td>\n",
       "      <td>1</td>\n",
       "      <td>0.965278</td>\n",
       "      <td>0.875352</td>\n",
       "    </tr>\n",
       "    <tr>\n",
       "      <th>1</th>\n",
       "      <td>1</td>\n",
       "      <td>male</td>\n",
       "      <td>1</td>\n",
       "      <td>0.340782</td>\n",
       "      <td>0.383126</td>\n",
       "    </tr>\n",
       "    <tr>\n",
       "      <th>2</th>\n",
       "      <td>1</td>\n",
       "      <td>female</td>\n",
       "      <td>0</td>\n",
       "      <td>0.965278</td>\n",
       "      <td>0.875352</td>\n",
       "    </tr>\n",
       "    <tr>\n",
       "      <th>3</th>\n",
       "      <td>1</td>\n",
       "      <td>male</td>\n",
       "      <td>0</td>\n",
       "      <td>0.340782</td>\n",
       "      <td>0.383126</td>\n",
       "    </tr>\n",
       "    <tr>\n",
       "      <th>4</th>\n",
       "      <td>1</td>\n",
       "      <td>female</td>\n",
       "      <td>0</td>\n",
       "      <td>0.965278</td>\n",
       "      <td>0.875352</td>\n",
       "    </tr>\n",
       "  </tbody>\n",
       "</table>\n",
       "</div>"
      ],
      "text/plain": [
       "   pclass     sex  survived  probability  NB_probability\n",
       "0       1  female         1     0.965278        0.875352\n",
       "1       1    male         1     0.340782        0.383126\n",
       "2       1  female         0     0.965278        0.875352\n",
       "3       1    male         0     0.340782        0.383126\n",
       "4       1  female         0     0.965278        0.875352"
      ]
     },
     "execution_count": 34,
     "metadata": {},
     "output_type": "execute_result"
    }
   ],
   "source": [
    "data_pclass_sex.head()"
   ]
  },
  {
   "cell_type": "code",
   "execution_count": 35,
   "metadata": {},
   "outputs": [
    {
     "data": {
      "text/html": [
       "<div>\n",
       "<style scoped>\n",
       "    .dataframe tbody tr th:only-of-type {\n",
       "        vertical-align: middle;\n",
       "    }\n",
       "\n",
       "    .dataframe tbody tr th {\n",
       "        vertical-align: top;\n",
       "    }\n",
       "\n",
       "    .dataframe thead th {\n",
       "        text-align: right;\n",
       "    }\n",
       "</style>\n",
       "<table border=\"1\" class=\"dataframe\">\n",
       "  <thead>\n",
       "    <tr style=\"text-align: right;\">\n",
       "      <th></th>\n",
       "      <th>NB_probability</th>\n",
       "    </tr>\n",
       "  </thead>\n",
       "  <tbody>\n",
       "    <tr>\n",
       "      <th>0</th>\n",
       "      <td>0.875352</td>\n",
       "    </tr>\n",
       "    <tr>\n",
       "      <th>1</th>\n",
       "      <td>0.383126</td>\n",
       "    </tr>\n",
       "    <tr>\n",
       "      <th>2</th>\n",
       "      <td>0.875352</td>\n",
       "    </tr>\n",
       "    <tr>\n",
       "      <th>3</th>\n",
       "      <td>0.383126</td>\n",
       "    </tr>\n",
       "    <tr>\n",
       "      <th>4</th>\n",
       "      <td>0.875352</td>\n",
       "    </tr>\n",
       "  </tbody>\n",
       "</table>\n",
       "</div>"
      ],
      "text/plain": [
       "   NB_probability\n",
       "0        0.875352\n",
       "1        0.383126\n",
       "2        0.875352\n",
       "3        0.383126\n",
       "4        0.875352"
      ]
     },
     "execution_count": 35,
     "metadata": {},
     "output_type": "execute_result"
    }
   ],
   "source": [
    "# data_pclass_sex = data[['pclass', 'sex', 'survived']]\n",
    "\n",
    "survival_probability_nb_df = data_pclass_sex[['NB_probability']]\n",
    "survival_probability_nb_df.head()"
   ]
  },
  {
   "cell_type": "code",
   "execution_count": 36,
   "metadata": {},
   "outputs": [
    {
     "name": "stdout",
     "output_type": "stream",
     "text": [
      "[[1]\n",
      " [1]\n",
      " [0]\n",
      " ...\n",
      " [0]\n",
      " [0]\n",
      " [0]] \n",
      "\n",
      "[[0.87535249]\n",
      " [0.38312586]\n",
      " [0.87535249]\n",
      " ...\n",
      " [0.11577799]\n",
      " [0.11577799]\n",
      " [0.11577799]]\n"
     ]
    }
   ],
   "source": [
    "survival_probability_nb = survival_probability_nb_df.to_numpy()\n",
    "\n",
    "print(labels,'\\n')\n",
    "print(survival_probability_nb)"
   ]
  },
  {
   "cell_type": "code",
   "execution_count": 37,
   "metadata": {},
   "outputs": [],
   "source": [
    "# ROC curve funtion\n",
    "fpr_nb, tpr_nb, ths_nb = roc_curve(labels, survival_probability_nb);"
   ]
  },
  {
   "cell_type": "code",
   "execution_count": 39,
   "metadata": {},
   "outputs": [
    {
     "data": {
      "image/png": "[encoded data removed]",
      "text/plain": [
       "<Figure size 1080x432 with 1 Axes>"
      ]
     },
     "metadata": {
      "needs_background": "light"
     },
     "output_type": "display_data"
    },
    {
     "name": "stdout",
     "output_type": "stream",
     "text": [
      "ROC curves for Bayes Classifier and Naive-Bayes Classifier almost perfectly overlap (Bayes Classifier ROC curve is almost enitrelly hidden under the Naive Bayes ROC curve)\n"
     ]
    }
   ],
   "source": [
    "# ROC curve drawing\n",
    "fig = plt.figure(figsize=(15,6))\n",
    "\n",
    "ax = fig.add_subplot(111)\n",
    "ax.set_title(\"ROC curve\")\n",
    "ax.set_xlabel(\"False Positive Rate\",fontsize=12)\n",
    "ax.set_ylabel(\"True Positive Rate\",fontsize=12)\n",
    "\n",
    "ax.plot(fpr, tpr,color=\"blue\") # Bayes Classifier ROC curve\n",
    "ax.plot(fpr_nb, tpr_nb, color='red') # Naive Bayes Classifier ROC curve\n",
    "\n",
    "plt.show()\n",
    "\n",
    "print('ROC curves for Bayes Classifier and Naive-Bayes Classifier almost perfectly overlap (Bayes Classifier ROC curve is almost enitrelly hidden under the Naive Bayes ROC curve)')"
   ]
  },
  {
   "cell_type": "code",
   "execution_count": 40,
   "metadata": {},
   "outputs": [
    {
     "name": "stdout",
     "output_type": "stream",
     "text": [
      "Bayes AUC =  0.8200012360939432 \n",
      "\n",
      "Naive Bayes AUC =  0.8187651421508035\n",
      "Both values are very simmilar\n"
     ]
    }
   ],
   "source": [
    "# AUC scores for Bayes Classifier and Naive Bayes Classifier\n",
    "Bayes_AUC = roc_auc_score(labels, survival_probability)\n",
    "\n",
    "Naive_Bayes_AUC = roc_auc_score(labels, survival_probability_nb)\n",
    "\n",
    "print('Bayes AUC = ',Bayes_AUC,'\\n')\n",
    "print('Naive Bayes AUC = ',Naive_Bayes_AUC)\n",
    "print('Both values are very simmilar')"
   ]
  },
  {
   "cell_type": "markdown",
   "metadata": {},
   "source": [
    "## Problem 2"
   ]
  },
  {
   "cell_type": "markdown",
   "metadata": {},
   "source": [
    "Add age as a feature and implement naive bayes classifier. "
   ]
  },
  {
   "cell_type": "markdown",
   "metadata": {},
   "source": [
    "#### Hint: \n",
    "Consider using it as a categorical variable"
   ]
  },
  {
   "cell_type": "code",
   "execution_count": 41,
   "metadata": {},
   "outputs": [],
   "source": [
    "data_pclass_sex_age = data[['pclass', 'sex', 'survived','age']]"
   ]
  },
  {
   "cell_type": "code",
   "execution_count": 42,
   "metadata": {},
   "outputs": [],
   "source": [
    "# Removal of NaNs\n",
    "data_pclass_sex_age = data_pclass_sex_age.dropna(how='any')"
   ]
  },
  {
   "cell_type": "code",
   "execution_count": 43,
   "metadata": {},
   "outputs": [
    {
     "data": {
      "text/html": [
       "<div>\n",
       "<style scoped>\n",
       "    .dataframe tbody tr th:only-of-type {\n",
       "        vertical-align: middle;\n",
       "    }\n",
       "\n",
       "    .dataframe tbody tr th {\n",
       "        vertical-align: top;\n",
       "    }\n",
       "\n",
       "    .dataframe thead th {\n",
       "        text-align: right;\n",
       "    }\n",
       "</style>\n",
       "<table border=\"1\" class=\"dataframe\">\n",
       "  <thead>\n",
       "    <tr style=\"text-align: right;\">\n",
       "      <th></th>\n",
       "      <th>pclass</th>\n",
       "      <th>sex</th>\n",
       "      <th>survived</th>\n",
       "      <th>age</th>\n",
       "    </tr>\n",
       "  </thead>\n",
       "  <tbody>\n",
       "    <tr>\n",
       "      <th>0</th>\n",
       "      <td>1</td>\n",
       "      <td>female</td>\n",
       "      <td>1</td>\n",
       "      <td>29.0000</td>\n",
       "    </tr>\n",
       "    <tr>\n",
       "      <th>1</th>\n",
       "      <td>1</td>\n",
       "      <td>male</td>\n",
       "      <td>1</td>\n",
       "      <td>0.9167</td>\n",
       "    </tr>\n",
       "    <tr>\n",
       "      <th>2</th>\n",
       "      <td>1</td>\n",
       "      <td>female</td>\n",
       "      <td>0</td>\n",
       "      <td>2.0000</td>\n",
       "    </tr>\n",
       "    <tr>\n",
       "      <th>3</th>\n",
       "      <td>1</td>\n",
       "      <td>male</td>\n",
       "      <td>0</td>\n",
       "      <td>30.0000</td>\n",
       "    </tr>\n",
       "    <tr>\n",
       "      <th>4</th>\n",
       "      <td>1</td>\n",
       "      <td>female</td>\n",
       "      <td>0</td>\n",
       "      <td>25.0000</td>\n",
       "    </tr>\n",
       "  </tbody>\n",
       "</table>\n",
       "</div>"
      ],
      "text/plain": [
       "   pclass     sex  survived      age\n",
       "0       1  female         1  29.0000\n",
       "1       1    male         1   0.9167\n",
       "2       1  female         0   2.0000\n",
       "3       1    male         0  30.0000\n",
       "4       1  female         0  25.0000"
      ]
     },
     "execution_count": 43,
     "metadata": {},
     "output_type": "execute_result"
    }
   ],
   "source": [
    "data_pclass_sex_age.head()"
   ]
  },
  {
   "cell_type": "code",
   "execution_count": 44,
   "metadata": {},
   "outputs": [],
   "source": [
    "# Age to categorical variable (Baby, Child, Adult, Elderly)\n",
    "category = pd.cut(data_pclass_sex_age.age,bins=[0,2,17,65,99],labels=['Baby','Child','Adult','Elderly'])"
   ]
  },
  {
   "cell_type": "code",
   "execution_count": 45,
   "metadata": {},
   "outputs": [],
   "source": [
    "# Inserting categorical age variable\n",
    "data_pclass_sex_age.insert(3,'age_group',category)"
   ]
  },
  {
   "cell_type": "code",
   "execution_count": 46,
   "metadata": {},
   "outputs": [
    {
     "data": {
      "text/html": [
       "<div>\n",
       "<style scoped>\n",
       "    .dataframe tbody tr th:only-of-type {\n",
       "        vertical-align: middle;\n",
       "    }\n",
       "\n",
       "    .dataframe tbody tr th {\n",
       "        vertical-align: top;\n",
       "    }\n",
       "\n",
       "    .dataframe thead th {\n",
       "        text-align: right;\n",
       "    }\n",
       "</style>\n",
       "<table border=\"1\" class=\"dataframe\">\n",
       "  <thead>\n",
       "    <tr style=\"text-align: right;\">\n",
       "      <th></th>\n",
       "      <th>pclass</th>\n",
       "      <th>sex</th>\n",
       "      <th>survived</th>\n",
       "      <th>age_group</th>\n",
       "      <th>age</th>\n",
       "    </tr>\n",
       "  </thead>\n",
       "  <tbody>\n",
       "    <tr>\n",
       "      <th>0</th>\n",
       "      <td>1</td>\n",
       "      <td>female</td>\n",
       "      <td>1</td>\n",
       "      <td>Adult</td>\n",
       "      <td>29.0000</td>\n",
       "    </tr>\n",
       "    <tr>\n",
       "      <th>1</th>\n",
       "      <td>1</td>\n",
       "      <td>male</td>\n",
       "      <td>1</td>\n",
       "      <td>Baby</td>\n",
       "      <td>0.9167</td>\n",
       "    </tr>\n",
       "    <tr>\n",
       "      <th>2</th>\n",
       "      <td>1</td>\n",
       "      <td>female</td>\n",
       "      <td>0</td>\n",
       "      <td>Baby</td>\n",
       "      <td>2.0000</td>\n",
       "    </tr>\n",
       "    <tr>\n",
       "      <th>3</th>\n",
       "      <td>1</td>\n",
       "      <td>male</td>\n",
       "      <td>0</td>\n",
       "      <td>Adult</td>\n",
       "      <td>30.0000</td>\n",
       "    </tr>\n",
       "    <tr>\n",
       "      <th>4</th>\n",
       "      <td>1</td>\n",
       "      <td>female</td>\n",
       "      <td>0</td>\n",
       "      <td>Adult</td>\n",
       "      <td>25.0000</td>\n",
       "    </tr>\n",
       "  </tbody>\n",
       "</table>\n",
       "</div>"
      ],
      "text/plain": [
       "   pclass     sex  survived age_group      age\n",
       "0       1  female         1     Adult  29.0000\n",
       "1       1    male         1      Baby   0.9167\n",
       "2       1  female         0      Baby   2.0000\n",
       "3       1    male         0     Adult  30.0000\n",
       "4       1  female         0     Adult  25.0000"
      ]
     },
     "execution_count": 46,
     "metadata": {},
     "output_type": "execute_result"
    }
   ],
   "source": [
    "data_pclass_sex_age.head()"
   ]
  },
  {
   "cell_type": "code",
   "execution_count": 47,
   "metadata": {},
   "outputs": [],
   "source": [
    "# Dropping numerical age variable\n",
    "data_pclass_sex_age = data_pclass_sex_age.drop(columns=['age'])"
   ]
  },
  {
   "cell_type": "code",
   "execution_count": 48,
   "metadata": {},
   "outputs": [
    {
     "data": {
      "text/html": [
       "<div>\n",
       "<style scoped>\n",
       "    .dataframe tbody tr th:only-of-type {\n",
       "        vertical-align: middle;\n",
       "    }\n",
       "\n",
       "    .dataframe tbody tr th {\n",
       "        vertical-align: top;\n",
       "    }\n",
       "\n",
       "    .dataframe thead th {\n",
       "        text-align: right;\n",
       "    }\n",
       "</style>\n",
       "<table border=\"1\" class=\"dataframe\">\n",
       "  <thead>\n",
       "    <tr style=\"text-align: right;\">\n",
       "      <th></th>\n",
       "      <th>pclass</th>\n",
       "      <th>sex</th>\n",
       "      <th>survived</th>\n",
       "      <th>age_group</th>\n",
       "    </tr>\n",
       "  </thead>\n",
       "  <tbody>\n",
       "    <tr>\n",
       "      <th>0</th>\n",
       "      <td>1</td>\n",
       "      <td>female</td>\n",
       "      <td>1</td>\n",
       "      <td>Adult</td>\n",
       "    </tr>\n",
       "    <tr>\n",
       "      <th>1</th>\n",
       "      <td>1</td>\n",
       "      <td>male</td>\n",
       "      <td>1</td>\n",
       "      <td>Baby</td>\n",
       "    </tr>\n",
       "    <tr>\n",
       "      <th>2</th>\n",
       "      <td>1</td>\n",
       "      <td>female</td>\n",
       "      <td>0</td>\n",
       "      <td>Baby</td>\n",
       "    </tr>\n",
       "    <tr>\n",
       "      <th>3</th>\n",
       "      <td>1</td>\n",
       "      <td>male</td>\n",
       "      <td>0</td>\n",
       "      <td>Adult</td>\n",
       "    </tr>\n",
       "    <tr>\n",
       "      <th>4</th>\n",
       "      <td>1</td>\n",
       "      <td>female</td>\n",
       "      <td>0</td>\n",
       "      <td>Adult</td>\n",
       "    </tr>\n",
       "  </tbody>\n",
       "</table>\n",
       "</div>"
      ],
      "text/plain": [
       "   pclass     sex  survived age_group\n",
       "0       1  female         1     Adult\n",
       "1       1    male         1      Baby\n",
       "2       1  female         0      Baby\n",
       "3       1    male         0     Adult\n",
       "4       1  female         0     Adult"
      ]
     },
     "execution_count": 48,
     "metadata": {},
     "output_type": "execute_result"
    }
   ],
   "source": [
    "data_pclass_sex_age.head()"
   ]
  },
  {
   "cell_type": "code",
   "execution_count": 49,
   "metadata": {},
   "outputs": [],
   "source": [
    "# Grouping\n",
    "grouped_2 = data_pclass_sex_age.groupby(['survived','sex','pclass','age_group'])"
   ]
  },
  {
   "cell_type": "code",
   "execution_count": 50,
   "metadata": {},
   "outputs": [],
   "source": [
    "counts_2 = grouped_2.size()"
   ]
  },
  {
   "cell_type": "code",
   "execution_count": 51,
   "metadata": {},
   "outputs": [
    {
     "name": "stdout",
     "output_type": "stream",
     "text": [
      "survived  sex     pclass  age_group\n",
      "0         female  1       Baby           1\n",
      "                          Child          0\n",
      "                          Adult          4\n",
      "                          Elderly        0\n",
      "                  2       Baby           0\n",
      "                          Child          0\n",
      "                          Adult         11\n",
      "                          Elderly        0\n",
      "                  3       Baby           5\n",
      "                          Child         16\n",
      "                          Adult         59\n",
      "                          Elderly        0\n",
      "          male    1       Baby           0\n",
      "                          Child          1\n",
      "                          Adult         93\n",
      "                          Elderly        4\n",
      "                  2       Baby           0\n",
      "                          Child          4\n",
      "                          Adult        129\n",
      "                          Elderly        2\n",
      "                  3       Baby           7\n",
      "                          Child         39\n",
      "                          Adult        242\n",
      "                          Elderly        2\n",
      "1         female  1       Baby           0\n",
      "                          Child          7\n",
      "                          Adult        120\n",
      "                          Elderly        1\n",
      "                  2       Baby           3\n",
      "                          Child         15\n",
      "                          Adult         74\n",
      "                          Elderly        0\n",
      "                  3       Baby           7\n",
      "                          Child         18\n",
      "                          Adult         47\n",
      "                          Elderly        0\n",
      "          male    1       Baby           1\n",
      "                          Child          5\n",
      "                          Adult         46\n",
      "                          Elderly        1\n",
      "                  2       Baby           7\n",
      "                          Child          4\n",
      "                          Adult         12\n",
      "                          Elderly        0\n",
      "                  3       Baby           3\n",
      "                          Child         11\n",
      "                          Adult         45\n",
      "                          Elderly        0\n",
      "dtype: int64\n"
     ]
    }
   ],
   "source": [
    "print(counts_2)"
   ]
  },
  {
   "cell_type": "code",
   "execution_count": 52,
   "metadata": {},
   "outputs": [],
   "source": [
    "# Conditional probablities of sex category and class category if passenger survived/died \n",
    "P2_f_s = (counts_2[(1,'female')].sum())/(counts_2[1].sum())\n",
    "P2_m_s = (counts_2[(1,'male')].sum())/(counts_2[1].sum())\n",
    "\n",
    "P2_f_d = (counts_2[(0,'female')].sum())/(counts_2[0].sum())\n",
    "P2_m_d = (counts_2[(0,'male')].sum())/(counts_2[0].sum())\n",
    "\n",
    "P2_1_s = (counts_2[(1,'female',1)].sum() + counts_2[(1,'male',1)].sum())/(counts_2[1].sum())\n",
    "P2_2_s = (counts_2[(1,'female',2)].sum() + counts_2[(1,'male',2)].sum())/(counts_2[1].sum())\n",
    "P2_3_s = (counts_2[(1,'female',3)].sum() + counts_2[(1,'male',3)].sum())/(counts_2[1].sum())\n",
    "\n",
    "P2_1_d = (counts_2[(0,'female',1)].sum() + counts_2[(0,'male',1)].sum())/(counts_2[0].sum())\n",
    "P2_2_d = (counts_2[(0,'female',2)].sum() + counts_2[(0,'male',2)].sum())/(counts_2[0].sum())\n",
    "P2_3_d = (counts_2[(0,'female',3)].sum() + counts_2[(0,'male',3)].sum())/(counts_2[0].sum())"
   ]
  },
  {
   "cell_type": "code",
   "execution_count": 53,
   "metadata": {},
   "outputs": [
    {
     "name": "stdout",
     "output_type": "stream",
     "text": [
      "0.6838407494145199\n",
      "0.3161592505854801\n",
      "0.15508885298869143\n",
      "0.8449111470113085\n",
      "0.4238875878220141\n",
      "0.2693208430913349\n",
      "0.30679156908665106\n",
      "0.16639741518578352\n",
      "0.2358642972536349\n",
      "0.5977382875605816\n"
     ]
    }
   ],
   "source": [
    "print(P2_f_s)\n",
    "print(P2_m_s)\n",
    "print(P2_f_d)\n",
    "print(P2_m_d)\n",
    "\n",
    "print(P2_1_s)\n",
    "print(P2_2_s)\n",
    "print(P2_3_s)\n",
    "print(P2_1_d)\n",
    "print(P2_2_d)\n",
    "print(P2_3_d)"
   ]
  },
  {
   "cell_type": "code",
   "execution_count": 54,
   "metadata": {},
   "outputs": [],
   "source": [
    "# Conditional probablities of age category if passenger survived/died \n",
    "P2_B_s = (counts_2[(1,'female',1,'Baby')] + counts_2[(1,'female',2,'Baby')] + counts_2[(1,'female',3,'Baby')] + counts_2[(1,'male',1,'Baby')] + counts_2[(1,'male',2,'Baby')] + counts_2[(1,'male',3,'Baby')])/(counts_2[1].sum())\n",
    "P2_C_s = (counts_2[(1,'female',1,'Child')] + counts_2[(1,'female',2,'Child')] + counts_2[(1,'female',3,'Child')] + counts_2[(1,'male',1,'Child')] + counts_2[(1,'male',2,'Child')] + counts_2[(1,'male',3,'Child')])/(counts_2[1].sum())\n",
    "P2_A_s = (counts_2[(1,'female',1,'Adult')] + counts_2[(1,'female',2,'Adult')] + counts_2[(1,'female',3,'Adult')] + counts_2[(1,'male',1,'Adult')] + counts_2[(1,'male',2,'Adult')] + counts_2[(1,'male',3,'Adult')])/(counts_2[1].sum())\n",
    "P2_E_s = (counts_2[(1,'female',1,'Elderly')] + counts_2[(1,'female',2,'Elderly')] + counts_2[(1,'female',3,'Elderly')] + counts_2[(1,'male',1,'Elderly')] + counts_2[(1,'male',2,'Elderly')] + counts_2[(1,'male',3,'Elderly')])/(counts_2[1].sum())\n",
    "\n",
    "P2_B_d = (counts_2[(0,'female',1,'Baby')] + counts_2[(0,'female',2,'Baby')] + counts_2[(0,'female',3,'Baby')] + counts_2[(0,'male',1,'Baby')] + counts_2[(0,'male',2,'Baby')] + counts_2[(0,'male',3,'Baby')])/(counts_2[0].sum())\n",
    "P2_C_d = (counts_2[(0,'female',1,'Child')] + counts_2[(0,'female',2,'Child')] + counts_2[(0,'female',3,'Child')] + counts_2[(0,'male',1,'Child')] + counts_2[(0,'male',2,'Child')] + counts_2[(0,'male',3,'Child')])/(counts_2[0].sum())\n",
    "P2_A_d = (counts_2[(0,'female',1,'Adult')] + counts_2[(0,'female',2,'Adult')] + counts_2[(0,'female',3,'Adult')] + counts_2[(0,'male',1,'Adult')] + counts_2[(0,'male',2,'Adult')] + counts_2[(0,'male',3,'Adult')])/(counts_2[0].sum())\n",
    "P2_E_d = (counts_2[(0,'female',1,'Elderly')] + counts_2[(0,'female',2,'Elderly')] + counts_2[(0,'female',3,'Elderly')] + counts_2[(0,'male',1,'Elderly')] + counts_2[(0,'male',2,'Elderly')] + counts_2[(0,'male',3,'Elderly')])/(counts_2[0].sum())"
   ]
  },
  {
   "cell_type": "code",
   "execution_count": 55,
   "metadata": {},
   "outputs": [
    {
     "name": "stdout",
     "output_type": "stream",
     "text": [
      "0.04918032786885246\n",
      "0.1405152224824356\n",
      "0.8056206088992974\n",
      "0.00468384074941452\n",
      "0.0210016155088853\n",
      "0.09693053311793215\n",
      "0.8691437802907916\n",
      "0.012924071082390954\n"
     ]
    }
   ],
   "source": [
    "print(P2_B_s)\n",
    "print(P2_C_s)\n",
    "print(P2_A_s)\n",
    "print(P2_E_s)\n",
    "\n",
    "print(P2_B_d)\n",
    "print(P2_C_d)\n",
    "print(P2_A_d)\n",
    "print(P2_E_d)"
   ]
  },
  {
   "cell_type": "code",
   "execution_count": 56,
   "metadata": {},
   "outputs": [],
   "source": [
    "# Calculating Naive-Bayes probabilities of survival for each variable combination\n",
    "P2_surv = counts_2[1].sum()/counts_2.sum()\n",
    "P2_death = counts_2[0].sum()/counts_2.sum()\n",
    "\n",
    "def nb_2(row):\n",
    "    # Age category check\n",
    "    if row['sex'] == 'female':\n",
    "        P2_f1_s = P2_f_s\n",
    "        P2_f1_d = P2_f_d\n",
    "    elif row['sex'] == 'male':\n",
    "        P2_f1_s = P2_m_s\n",
    "        P2_f1_d = P2_m_d\n",
    "        \n",
    "    # Class category check\n",
    "    if row['pclass'] == 1:\n",
    "        P2_f2_s = P2_1_s \n",
    "        P2_f2_d = P2_1_d\n",
    "    elif row['pclass'] == 2:\n",
    "        P2_f2_s = P2_2_s \n",
    "        P2_f2_d = P2_2_d\n",
    "    elif row['pclass'] == 3:\n",
    "        P2_f2_s = P2_3_s \n",
    "        P2_f2_d = P2_3_d\n",
    "        \n",
    "    # Age category check\n",
    "    if row['age_group'] == 'Baby':\n",
    "        P2_f3_s = P2_B_s\n",
    "        P2_f3_d = P2_B_d\n",
    "    elif row['age_group'] == 'Child':\n",
    "        P2_f3_s = P2_C_s\n",
    "        P2_f3_d = P2_C_d\n",
    "    elif row['age_group'] == 'Adult':\n",
    "        P2_f3_s = P2_A_s\n",
    "        P2_f3_d = P2_A_d\n",
    "    elif row['age_group'] == 'Elderly':\n",
    "        P2_f3_s = P2_E_s\n",
    "        P2_f3_d = P2_E_d\n",
    "    \n",
    "    # Survival probability\n",
    "    val = (P2_surv*P2_f1_s*P2_f2_s*P2_f3_s)/(P2_surv*P2_f1_s*P2_f2_s*P2_f3_s + P2_death*P2_f1_d*P2_f2_d*P2_f3_d)\n",
    "    return val"
   ]
  },
  {
   "cell_type": "code",
   "execution_count": 57,
   "metadata": {},
   "outputs": [],
   "source": [
    "data_pclass_sex_age['nb_probability'] = data_pclass_sex_age.apply(nb_2, axis=1)"
   ]
  },
  {
   "cell_type": "code",
   "execution_count": 58,
   "metadata": {},
   "outputs": [
    {
     "data": {
      "text/html": [
       "<div>\n",
       "<style scoped>\n",
       "    .dataframe tbody tr th:only-of-type {\n",
       "        vertical-align: middle;\n",
       "    }\n",
       "\n",
       "    .dataframe tbody tr th {\n",
       "        vertical-align: top;\n",
       "    }\n",
       "\n",
       "    .dataframe thead th {\n",
       "        text-align: right;\n",
       "    }\n",
       "</style>\n",
       "<table border=\"1\" class=\"dataframe\">\n",
       "  <thead>\n",
       "    <tr style=\"text-align: right;\">\n",
       "      <th></th>\n",
       "      <th>pclass</th>\n",
       "      <th>sex</th>\n",
       "      <th>survived</th>\n",
       "      <th>age_group</th>\n",
       "      <th>nb_probability</th>\n",
       "    </tr>\n",
       "  </thead>\n",
       "  <tbody>\n",
       "    <tr>\n",
       "      <th>0</th>\n",
       "      <td>1</td>\n",
       "      <td>female</td>\n",
       "      <td>1</td>\n",
       "      <td>Adult</td>\n",
       "      <td>0.877783</td>\n",
       "    </tr>\n",
       "    <tr>\n",
       "      <th>1</th>\n",
       "      <td>1</td>\n",
       "      <td>male</td>\n",
       "      <td>1</td>\n",
       "      <td>Baby</td>\n",
       "      <td>0.606274</td>\n",
       "    </tr>\n",
       "    <tr>\n",
       "      <th>2</th>\n",
       "      <td>1</td>\n",
       "      <td>female</td>\n",
       "      <td>0</td>\n",
       "      <td>Baby</td>\n",
       "      <td>0.947767</td>\n",
       "    </tr>\n",
       "    <tr>\n",
       "      <th>3</th>\n",
       "      <td>1</td>\n",
       "      <td>male</td>\n",
       "      <td>0</td>\n",
       "      <td>Adult</td>\n",
       "      <td>0.378690</td>\n",
       "    </tr>\n",
       "    <tr>\n",
       "      <th>4</th>\n",
       "      <td>1</td>\n",
       "      <td>female</td>\n",
       "      <td>0</td>\n",
       "      <td>Adult</td>\n",
       "      <td>0.877783</td>\n",
       "    </tr>\n",
       "  </tbody>\n",
       "</table>\n",
       "</div>"
      ],
      "text/plain": [
       "   pclass     sex  survived age_group  nb_probability\n",
       "0       1  female         1     Adult        0.877783\n",
       "1       1    male         1      Baby        0.606274\n",
       "2       1  female         0      Baby        0.947767\n",
       "3       1    male         0     Adult        0.378690\n",
       "4       1  female         0     Adult        0.877783"
      ]
     },
     "execution_count": 58,
     "metadata": {},
     "output_type": "execute_result"
    }
   ],
   "source": [
    "data_pclass_sex_age.head()"
   ]
  },
  {
   "cell_type": "code",
   "execution_count": 59,
   "metadata": {},
   "outputs": [
    {
     "data": {
      "text/html": [
       "<div>\n",
       "<style scoped>\n",
       "    .dataframe tbody tr th:only-of-type {\n",
       "        vertical-align: middle;\n",
       "    }\n",
       "\n",
       "    .dataframe tbody tr th {\n",
       "        vertical-align: top;\n",
       "    }\n",
       "\n",
       "    .dataframe thead th {\n",
       "        text-align: right;\n",
       "    }\n",
       "</style>\n",
       "<table border=\"1\" class=\"dataframe\">\n",
       "  <thead>\n",
       "    <tr style=\"text-align: right;\">\n",
       "      <th></th>\n",
       "      <th>nb_probability</th>\n",
       "    </tr>\n",
       "  </thead>\n",
       "  <tbody>\n",
       "    <tr>\n",
       "      <th>0</th>\n",
       "      <td>0.877783</td>\n",
       "    </tr>\n",
       "    <tr>\n",
       "      <th>1</th>\n",
       "      <td>0.606274</td>\n",
       "    </tr>\n",
       "    <tr>\n",
       "      <th>2</th>\n",
       "      <td>0.947767</td>\n",
       "    </tr>\n",
       "    <tr>\n",
       "      <th>3</th>\n",
       "      <td>0.378690</td>\n",
       "    </tr>\n",
       "    <tr>\n",
       "      <th>4</th>\n",
       "      <td>0.877783</td>\n",
       "    </tr>\n",
       "  </tbody>\n",
       "</table>\n",
       "</div>"
      ],
      "text/plain": [
       "   nb_probability\n",
       "0        0.877783\n",
       "1        0.606274\n",
       "2        0.947767\n",
       "3        0.378690\n",
       "4        0.877783"
      ]
     },
     "execution_count": 59,
     "metadata": {},
     "output_type": "execute_result"
    }
   ],
   "source": [
    "# Extracting labels and survival_probability columns from dataframe\n",
    "\n",
    "labels_2nb_df = data_pclass_sex_age[['survived']]\n",
    "\n",
    "survival_probability_2nb_df = data_pclass_sex_age[['nb_probability']]\n",
    "survival_probability_2nb_df.head()"
   ]
  },
  {
   "cell_type": "code",
   "execution_count": 60,
   "metadata": {},
   "outputs": [
    {
     "name": "stdout",
     "output_type": "stream",
     "text": [
      "[[1]\n",
      " [1]\n",
      " [0]\n",
      " ...\n",
      " [0]\n",
      " [0]\n",
      " [0]] \n",
      "\n",
      "[[0.87778279]\n",
      " [0.60627404]\n",
      " [0.94776675]\n",
      " ...\n",
      " [0.10937055]\n",
      " [0.10937055]\n",
      " [0.10937055]]\n"
     ]
    }
   ],
   "source": [
    "# Dataframe columns to arrays\n",
    "labels_2nb = labels_2nb_df.to_numpy()\n",
    "survival_probability_2nb = survival_probability_2nb_df.to_numpy()\n",
    "\n",
    "print(labels_2nb,'\\n')\n",
    "print(survival_probability_2nb)"
   ]
  },
  {
   "cell_type": "code",
   "execution_count": 61,
   "metadata": {},
   "outputs": [],
   "source": [
    "# Roc curve function\n",
    "fpr_2nb, tpr_2nb, ths_2nb = roc_curve(labels_2nb, survival_probability_2nb);"
   ]
  },
  {
   "cell_type": "code",
   "execution_count": 62,
   "metadata": {},
   "outputs": [
    {
     "data": {
      "image/png": "[encoded data removed]",
      "text/plain": [
       "<Figure size 1080x432 with 1 Axes>"
      ]
     },
     "metadata": {
      "needs_background": "light"
     },
     "output_type": "display_data"
    }
   ],
   "source": [
    "# Roc curve plotting\n",
    "fig = plt.figure(figsize=(15,6))\n",
    "\n",
    "ax = fig.add_subplot(111)\n",
    "ax.set_title(\"ROC curve\")\n",
    "ax.set_xlabel(\"False Positive Rate\",fontsize=12)\n",
    "ax.set_ylabel(\"True Positive Rate\",fontsize=12)\n",
    "\n",
    "ax.plot(fpr, tpr,color=\"blue\")\n",
    "ax.plot(fpr_nb, tpr_nb, color='red')\n",
    "ax.plot(fpr_2nb, tpr_2nb, color='orange')\n",
    "\n",
    "plt.show()\n"
   ]
  },
  {
   "cell_type": "code",
   "execution_count": 63,
   "metadata": {},
   "outputs": [
    {
     "name": "stdout",
     "output_type": "stream",
     "text": [
      "Bayes AUC =  0.8200012360939432\n",
      "Naive Bayes AUC =  0.8187651421508035\n",
      "Naive Bayes 2 AUC =  0.8331164187913572\n"
     ]
    }
   ],
   "source": [
    "# AUC score for each model comparison\n",
    "Bayes_AUC = roc_auc_score(labels, survival_probability)\n",
    "\n",
    "Naive_Bayes_AUC = roc_auc_score(labels, survival_probability_nb)\n",
    "\n",
    "Naive_Bayes_2_AUC = roc_auc_score(labels_2nb, survival_probability_2nb)\n",
    "\n",
    "print('Bayes AUC = ',Bayes_AUC)\n",
    "print('Naive Bayes AUC = ',Naive_Bayes_AUC)\n",
    "print('Naive Bayes 2 AUC = ',Naive_Bayes_2_AUC)"
   ]
  }
 ],
 "metadata": {
  "kernelspec": {
   "display_name": "Python 3",
   "language": "python",
   "name": "python3"
  },
  "language_info": {
   "codemirror_mode": {
    "name": "ipython",
    "version": 3
   },
   "file_extension": ".py",
   "mimetype": "text/x-python",
   "name": "python",
   "nbconvert_exporter": "python",
   "pygments_lexer": "ipython3",
   "version": "3.7.4"
  }
 },
 "nbformat": 4,
 "nbformat_minor": 4
}
